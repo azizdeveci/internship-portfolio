{
 "cells": [
  {
   "cell_type": "markdown",
   "id": "f713ee63",
   "metadata": {},
   "source": [
    "# Detection, Classification, Segmentation Nedir?"
   ]
  },
  {
   "cell_type": "markdown",
   "id": "bdfa9f01",
   "metadata": {},
   "source": [
    "## Classification"
   ]
  },
  {
   "cell_type": "markdown",
   "id": "17f0775a",
   "metadata": {},
   "source": [
    "### \n",
    "\"Bu görüntüde NE var?\" sorusuna cevap arar. Görüntünün tamamını tek bir kategoriye sınıflandırır.\n",
    "\n",
    "Çıktı Türü:\n",
    "Tek bir sınıf etiketi (\"kedi\", \"köpek\", \"araba\")\n",
    "\n",
    "Olasılık dağılımı (%92 kedi, %5 köpek, %3 diğer)"
   ]
  },
  {
   "cell_type": "markdown",
   "id": "74617a32",
   "metadata": {},
   "source": [
    "###\n",
    "Uygulama Senaryoları:\n",
    "\n",
    "Tıbbi Teşhis: Akciğer röntgeninde \"COVID-19 pozitif/negatif\" sınıflandırması\n",
    "\n",
    "Kalite Kontrol: Üretim hattında \"kusurlu/kusursuz\" ürün ayırımı\n",
    "\n",
    "Güvenlik: Yüz tanıma sistemleri\n",
    "\n",
    "E-ticaret: Ürün kategorilendirme"
   ]
  },
  {
   "cell_type": "markdown",
   "id": "29dab674",
   "metadata": {},
   "source": [
    "## Detection"
   ]
  },
  {
   "cell_type": "markdown",
   "id": "e6af1af8",
   "metadata": {},
   "source": [
    "###\n",
    "Nesnelerin konumunu ve türünü belirler.\n",
    "\n",
    "Çıktı Türü:\n",
    "\n",
    "Sınırlayıcı kutular (Bounding boxes - koordinatları)\n",
    "\n",
    "Sınıf etiketleri ve güven skorları\n",
    "\n",
    "\n",
    "\n",
    "Uygulama Senaryoları:\n",
    "\n",
    "Otonom Araçlar: Yaya, araç, trafik işareti tespiti\n",
    "\n",
    "Perakende: Raf stok takibi ve ürün yerleşimi analizi\n",
    "\n",
    "Güvenlik: Şüpheli nesne tespiti\n",
    "\n",
    "Tarım: Meyve/zararlı tespiti"
   ]
  },
  {
   "cell_type": "markdown",
   "id": "f822c720",
   "metadata": {},
   "source": [
    "## Segmentation"
   ]
  },
  {
   "cell_type": "markdown",
   "id": "47f48027",
   "metadata": {},
   "source": [
    "### Semantic Segmentation\n"
   ]
  },
  {
   "cell_type": "markdown",
   "id": "ba737735",
   "metadata": {},
   "source": [
    "####\n",
    "Anlamsal segmentasyon, derin öğrenme (DL ) algoritması kullanarak piksellere bir sınıf etiketi atayan bir bilgisayarlı görme görevidir . Bilgisayarların görsel bilgileri anlamasına yardımcı olan genel görüntü segmentasyonu sürecindeki üç alt kategoriden biridir.\n",
    "\n",
    "\"Hangi pikseller hangi sınıfa ait?\" - Aynı sınıftaki tüm nesneleri birleştirir.\n",
    "\n",
    "Çıktı Türü:\n",
    "Piksel düzeyinde sınıf haritası\n",
    "\n",
    "Renk kodlu maskeler\n",
    "\n",
    "Kullanım Alanları :\n",
    "\n",
    "-   Otonom Araçlar\n",
    "-   Tıbbi Teşhis\n",
    "-   Çiftçilik\n",
    "-   Fotoğrafçılık\n",
    "\n",
    "<img src=\"image-segmentation-diagram-semantic-4x.png\" width=\"70%\" height=\"auto\">\n"
   ]
  },
  {
   "cell_type": "markdown",
   "id": "08c4296b",
   "metadata": {},
   "source": [
    "### Instance Segmentation"
   ]
  },
  {
   "cell_type": "markdown",
   "id": "cedcfd68",
   "metadata": {},
   "source": [
    "####\n",
    "Örnek segmentasyon modelleri, yalnızca bir görüntüde bulunan ve sayılabilen anlamsal sınıflara odaklanır: insanlar, hayvanlar, ağaçlar, arabalar veya yangın muslukları gibi varlıklar ve nesneler. Herhangi bir nesneyi veya örneği algılar ve ardından her biri için bir segmentasyon maskesi ve belirli bir tanımlayıcı etiket üretir.\n",
    "\n",
    "\"Hangi pikseller hangi BİREYSEL nesneye ait?\" - Aynı sınıftaki nesneleri ayırt eder.\n",
    "\n",
    "Çıktı Türü:\n",
    "Nesne bazlı maskeler\n",
    "\n",
    "Her nesne için ayrı segmentasyon\n",
    "\n",
    "Kullanım Alanlaarı :\n",
    "-   Otonom Sürüş\n",
    "-   Tıbbi Görüntüleme\n",
    "-   Uydu Görüntüleri\n",
    "-   Robotik\n",
    "\n",
    "\n",
    "<img src=\"image-segmentation-diagram-semantic-instance-4x.png\" width=\"70%\" height=\"auto\">"
   ]
  }
 ],
 "metadata": {
  "language_info": {
   "name": "python"
  }
 },
 "nbformat": 4,
 "nbformat_minor": 5
}
