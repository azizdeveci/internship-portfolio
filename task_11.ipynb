{
 "cells": [
  {
   "cell_type": "markdown",
   "id": "adbd8ec6",
   "metadata": {},
   "source": [
    "# YOLO TEORİSİ"
   ]
  },
  {
   "cell_type": "markdown",
   "id": "d7385445",
   "metadata": {},
   "source": [
    "### \n",
    "YOLO (You Only Look Once) modelleri, nesneleri görüntünün tek bir geçişinde tanımlayan ve sınıflandıran gerçek zamanlı nesne algılama sistemleridir. Başka bir deyişle, model görüntüye yalnızca bir kez bakar ve bu 'tek geçişten' görüntüdeki nesneleri tanımlayabilir. Bu, bir görüntüyü işlemek için birden fazla geçiş gerektiren önceki modellerden farklıdır. Bu süreç gerçek zamanlı olarak gerçekleştiği için inanılmaz bir hızla çalışır"
   ]
  },
  {
   "cell_type": "markdown",
   "id": "e5c71dbe",
   "metadata": {},
   "source": [
    "## YOLOv3"
   ]
  },
  {
   "cell_type": "markdown",
   "id": "b4d40884",
   "metadata": {},
   "source": [
    "### \n",
    "   Temel yeniliği, çok ölçekli tahmin (multi-scale prediction) yeteneği sunarak farklı boyutlardaki nesneleri daha başarılı bir şekilde tespit etmesidir.\n"
   ]
  },
  {
   "cell_type": "markdown",
   "id": "911c81e3",
   "metadata": {},
   "source": [
    "### \n",
    "YOLOv3'ün Anahtar Özellikleri (Grid Mantığı)\n",
    "\n",
    "YOLOv3'ün en belirgin özelliği, nesneleri farklı ölçeklerde tespit etmek için üç farklı boyutta algılama katmanı (detection kernel/grid) kullanmasıdır:\n",
    "\n",
    "13x13: Büyük nesneleri tespit etmek için kullanılır.\n",
    "\n",
    "26x26: Orta boyutlu nesneleri tespit etmek için kullanılır.\n",
    "\n",
    "52x52: Küçük nesneleri tespit etmek için kullanılır."
   ]
  },
  {
   "cell_type": "markdown",
   "id": "2a92ebde",
   "metadata": {},
   "source": [
    "## YOLOv4"
   ]
  },
  {
   "cell_type": "markdown",
   "id": "af28a832",
   "metadata": {},
   "source": [
    "###\n",
    "Hız ve doğruluk (speed vs. accuracy) arasında optimum bir denge kurmayı hedefleyen, gerçek zamanlı bir nesne tespit modelidir.\n",
    "\n",
    "YOLOv4'ün mimarisi, kendisinden önceki başarılı çalışmaların en verimli özelliklerini bir araya getirir. Temel bileşenleri şunlardır:\n",
    "\n",
    "Backbone (Omurga): CSPDarknet53. Bu omurga, özellik çıkarım (feature extraction) işlemini daha verimli hale getirir.\n",
    "\n",
    "Neck (Boyun): PANet (Path Aggregation Network). Omurgadan gelen farklı seviyelerdeki özellikleri birleştirerek modelin hem küçük hem de büyük nesneleri daha iyi anlamasını sağlar.\n",
    "\n",
    "Head (Kafa): YOLOv3'ün algılama kafası. YOLOv3'ün başarısı kanıtlanmış olan tespit katmanını kullanır.\n",
    "\n",
    "Getirilen Yenilikler: \"Bag of Freebies\" ve \"Bag of Specials\"\n",
    "YOLOv4'ün başarısının ardındaki en büyük sırlardan biri, doğruluğu artırmak için kullandığı iki özel konsepttir:\n",
    "\n",
    "Bag of Freebies (Ücretsiz Ekstralar Paketi): Bunlar, çıkarım (inference) maliyetini artırmadan, sadece eğitim sürecini iyileştirerek modelin doğruluğunu yükselten tekniklerdir. Metinde öne çıkanlar:\n",
    "\n",
    "Mozaik Veri Artırma (Mosaic Data Augmentation): Dört farklı görüntüyü birleştirerek tek bir görüntü oluşturur. Bu, modelin nesneleri farklı bağlamlarda ve kısmen göründüklerinde bile tanımasını sağlar.\n",
    "\n",
    "Diğer Veri Artırma Teknikleri: Parlaklık, kontrast gibi fotometrik ve döndürme, kırpma gibi geometrik bozulmalar.\n",
    "\n",
    "Self-Adversarial Training (SAT): Modelin kendisine karşı küçük saldırılar düzenleyerek genelleme yeteneğini artırır.\n",
    "\n",
    "Bag of Specials (Özel Eklentiler Paketi): Bunlar, çıkarım maliyetini çok az artırarak doğruluğu önemli ölçüde yükselten modüller ve tekniklerdir. Örnekler:\n",
    "\n",
    "Mish Aktivasyon Fonksiyonu\n",
    "\n",
    "Cross-Stage-Partial (CSP) bağlantıları\n",
    "\n",
    "DropBlock düzenlileştirmesi\n",
    "\n",
    "4. Performans ve Sonuç\n",
    "YOLOv4, çıktığı dönemde COCO veri setinde son teknoloji (state-of-the-art) sonuçlar elde etmiştir. Hız ve doğruluk arasındaki mükemmel dengesi, onu otonom araçlardan güvenlik sistemlerine kadar birçok gerçek zamanlı uygulama için ideal bir seçenek haline getirmiştir. YOLOv5 ve v7 gibi daha yeni modeller çıksa da, YOLOv4'ün getirdiği mimari yenilikler kendisinden sonraki modelleri derinden etkilemiştir ve hala güçlü bir alternatif olarak kabul edilmektedir."
   ]
  },
  {
   "cell_type": "markdown",
   "id": "27b2b953",
   "metadata": {},
   "source": [
    "## YOLOv5"
   ]
  },
  {
   "cell_type": "markdown",
   "id": "7560209b",
   "metadata": {},
   "source": [
    "###\n",
    "En Temel Yenilik: Anchor-Free (Çapasız) Kafa Yapısı\n",
    "YOLOv5'in (özellikle YOLOv5u'nun) en kritik ve ayırt edici özelliği, geleneksel anchor-box (çapa kutusu) mekanizmasını terk etmesidir. Bunun yerine, YOLOv8'de de kullanılan anchor-free (çapasız) ve nesnesiz (objectness-free) bölünmüş bir kafa (split head) yapısını benimser.\n",
    "\n",
    "Geleneksel Yaklaşım (Anchor-Box): Nesneleri tespit etmek için önceden tanımlanmış boyut ve oranlarda kutucuklara (anchor) bağımlıydı.\n",
    "\n",
    "YOLOv5u'nun Yaklaşımı (Anchor-Free): Bu bağımlılığı ortadan kaldırarak, modelin farklı şekil ve boyutlardaki nesneleri tespit etme konusunda çok daha esnek ve uyarlanabilir olmasını sağlar. Bu, genel performansı ve doğruluğu artıran modern bir yaklaşımdır.\n",
    "\n",
    "Yüksek Çözünürlüklü Modeller: yolov5n6, yolov5s6 gibi 6 sonekine sahip modeller, daha büyük (1280x1280) görsellerle çalışmak üzere tasarlanmıştır.\n",
    "\n"
   ]
  },
  {
   "cell_type": "markdown",
   "id": "faa94505",
   "metadata": {},
   "source": [
    "## YOLOv6"
   ]
  },
  {
   "cell_type": "markdown",
   "id": "e5ee0e88",
   "metadata": {},
   "source": [
    "###\n",
    "YOLOv6'nın performansı, özellikle dört temel konsepte dayanır:\n",
    "\n",
    "1. Gelişmiş Boyun (Neck) Tasarımı ve BiC Modülü:\n",
    "\n",
    "YOLOv6, boyun mimarisinde Çift Yönlü Birleştirme (Bi-directional Concatenation - BiC) adı verilen bir modül kullanır. Bu modül, farklı katmanlardan gelen özellikleri daha verimli birleştirerek nesnelerin konumunu belirleme (localization) yeteneğini artırır. Bu işlemi yaparken hızı neredeyse hiç düşürmez.\n",
    "\n",
    "Ayrıca, daha yüksek performans için RepBlocks ve SimCSPSPPF gibi daha verimli bloklar içeren yeniden tasarlanmış bir omurga ve boyun yapısına sahiptir.\n",
    "\n",
    "2. Çapa Destekli Eğitim (Anchor-Aided Training - AAT):\n",
    "\n",
    "Bu, YOLOv6'nın en özgün stratejilerinden biridir. Model, eğitim sırasında hem geleneksel çapa tabanlı (anchor-based) hem de modern çapasız (anchor-free) yaklaşımların avantajlarından faydalanır.\n",
    "\n",
    "Ancak çıkarım (inference) aşamasında çapasız (anchor-free) bir yapıya döner. Bu sayede, eğitimde çapa kutularının sağladığı kararlılık ve doğruluktan yararlanırken, çıkarım sırasında çapasız mimarinin getirdiği hızı ve esnekliği korur.\n",
    "\n",
    "3. Kendiliğinden Damıtma (Self-Distillation):\n",
    "\n",
    "Özellikle YOLOv6-N (Nano) ve YOLOv6-S (Small) gibi küçük modellerin doğruluğunu artırmak için kullanılır.\n",
    "\n",
    "Eğitim sırasında modele yardımcı bir dal (auxiliary branch) eklenir. Bu dal, modelin daha zengin özellikler öğrenmesine yardımcı olur.\n",
    "\n",
    "Eğitim bittikten sonra bu yardımcı dal kaldırılır, böylece çıkarım hızı etkilenmez. Bu yöntemle küçük modeller, performanslarından ödün vermeden daha \"bilgili\" hale gelir.\n",
    "\n",
    "4. Gelişmiş Omurga ve Boyun (Daha Derin Mimariler):\n",
    "\n",
    "Yüksek çözünürlüklü görsellerde daha iyi performans elde etmek için YOLOv6-M ve YOLOv6-L gibi büyük modellerde omurga ve boyun mimarisi daha da derinleştirilmiştir.\n",
    "\n",
    "\n",
    "modelin özellikle yüksek FPS değerlerinde ne kadar rekabetçi olduğunu göstermektedir"
   ]
  },
  {
   "cell_type": "markdown",
   "id": "21f98927",
   "metadata": {},
   "source": [
    "## YOLOv7"
   ]
  },
  {
   "cell_type": "markdown",
   "id": "e3694fe7",
   "metadata": {},
   "source": [
    "###\n",
    "Amaç, çıkarım (inference) maliyetini, yani modelin hızını ve işlem yükünü artırmadan, sadece eğitim sırasındaki akıllı yöntemlerle modelin doğruluğunu maksimum seviyeye çıkarmaktır.\n",
    "\n",
    "Planlı Model Yeniden Parametrelendirmesi (Re-parameterization):\n",
    "\n",
    "Model, eğitim sırasında daha karmaşık ve dallanmış bir yapıya sahip olur. Bu, modelin daha zengin ve güçlü özellikler öğrenmesini sağlar (gradyan akışını iyileştirir).\n",
    "\n",
    "Eğitim tamamlandıktan sonra bu karmaşık yapı, matematiksel olarak basit ve çok hızlı tek bir katmana dönüştürülür. Sonuç olarak, eğitimde öğrenme kapasitesi artırılırken, çıkarım sırasında hızdan ödün verilmez.\n",
    "\n",
    "2. Dinamik Etiket Atama (Coarse-to-fine Lead Guided):\n",
    "\n",
    "Modelin birden çok çıktı katmanı (farklı ölçeklerdeki nesneler için) bulunur. Bu yenilik, eğitim sırasında hangi nesnenin hangi katman tarafından öğrenileceğini daha akıllı bir şekilde belirleyen bir etiket atama mekanizmasıdır. Bu, öğrenme sürecini daha verimli ve doğru hale getirir.\n",
    "\n",
    "3. Genişletilmiş ve Bileşik Ölçeklendirme (Extended and Compound Scaling):\n",
    "\n",
    "Bu, modelin tiny gibi küçük versiyonlardan E6 gibi büyük versiyonlara ölçeklendirilirken, parametrelerin ve işlem gücünün en verimli şekilde kullanılmasını sağlayan bir yöntemdir. Modelin her boyutta optimum performans göstermesine olanak tanır."
   ]
  },
  {
   "cell_type": "markdown",
   "id": "edaccd5e",
   "metadata": {},
   "source": [
    "## YOLOv8\n"
   ]
  },
  {
   "cell_type": "markdown",
   "id": "bfec4830",
   "metadata": {},
   "source": [
    "###\n",
    "YOLOv8, önceki Ultralytics modellerindeki (özellikle YOLOv5u) başarılı ve modern yaklaşımları temel alarak daha da ileri taşır:\n",
    "\n",
    "Gelişmiş Omurga (Backbone) ve Boyun (Neck): Özellik çıkarım (feature extraction) kapasitesini ve performansını artırmak için en son teknolojiye sahip, yeniden tasarlanmış bir omurga ve boyun mimarisi kullanır.\n",
    "\n",
    "Anchor-Free Kafa Yapısı: YOLOv8, standart olarak anchor-free (çapasız) ve bölünmüş bir kafa (split head) yapısıyla gelir. Bu yapı, daha önceki u versiyonlarında bir güncelleme olarak sunulmuşken, YOLOv8'in temelini oluşturur. Bu, daha yüksek doğruluk ve daha verimli bir tespit süreci sağlar.\n",
    "\n",
    "\n",
    "Çoklu Görev Desteği\n",
    "\n",
    "YOLOv8'in en büyük devrimi, tek bir tutarlı yapı içinde birden fazla görevi desteklemesidir. Her görev için özel olarak optimize edilmiş, ancak aynı kolay kullanıma sahip modeller sunar:\n",
    "\n",
    "Nesne Tespiti (Detection): yolov8n.pt, yolov8s.pt...\n",
    "\n",
    "Örnek Segmentasyonu (Instance Segmentation): yolov8n-seg.pt... (Nesnelerin sadece kutusunu değil, piksel bazında maskesini de çıkarır.)\n",
    "\n",
    "Poz/Anahtar Nokta Tespiti (Pose/Keypoint): yolov8n-pose.pt... (İnsan iskeleti gibi anahtar noktaları tespit eder.)\n",
    "\n",
    "Yönelimli Nesne Tespiti (Oriented Bounding Boxes - OBB): yolov8n-obb.pt... (Döndürülmüş, açılı duran nesneleri tespit eder.)\n",
    "\n",
    "Sınıflandırma (Classification): yolov8n-cls.pt... (Görüntüdeki nesnelerin konumunu bulmadan, sadece görüntünün ne olduğunu sınıflandırır.)"
   ]
  }
 ],
 "metadata": {
  "language_info": {
   "name": "python"
  }
 },
 "nbformat": 4,
 "nbformat_minor": 5
}
