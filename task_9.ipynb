{
 "cells": [
  {
   "cell_type": "markdown",
   "id": "a5cb955e",
   "metadata": {},
   "source": [
    "# 1) CNN(Convolutional Neural Networks) Nedir\n"
   ]
  },
  {
   "cell_type": "markdown",
   "id": "bf26787f",
   "metadata": {},
   "source": [
    "### \n",
    "Evrişimsel Sinir Ağı (Convolutional Neural Network, CNN), bilgisayarla görme  projelerinde önemli bir yer tutan ve derin öğrenme alanında yaygın olarak kullanılan bir algoritmadır.\n",
    "Bu algoritma, girdi görüntülerindeki uzaysal ve zamansal bilgileri koruyarak anlamlı özelliklerin çıkarılmasına olanak tanır"
   ]
  },
  {
   "cell_type": "markdown",
   "id": "72bc38f5",
   "metadata": {},
   "source": [
    "###\n",
    "CNN'lerin başarısının temelinde, evrişim katmanları, havuzlama (pooling) katmanları ve tam bağlantılı (fully connected) katmanlar gibi özel yapısal bileşenler yer almaktadır. Evrişim katmanları, görüntüdeki yerel özellikleri tespit ederken, havuzlama katmanları bu özelliklerin boyutunu azaltarak hesaplama verimliliğini artırır. Tam bağlantılı katmanlar ise bu özellikleri sınıflandırma veya tahmin etme işlemlerinde kullanır"
   ]
  },
  {
   "cell_type": "markdown",
   "id": "ec399f36",
   "metadata": {},
   "source": [
    "## 1.1) Convolution (Evrişim) Nedir?"
   ]
  },
  {
   "cell_type": "markdown",
   "id": "9ae41045",
   "metadata": {},
   "source": [
    "###\n",
    "Evrişim, dijital görüntü işleme ve derin öğrenme alanlarında sıklıkla kullanılan temel bir işlemdir. Bu işlem, bir görüntü üzerinde belirli bir boyutta filtre (veya çekirdek, kernel) kaydırılarak, görüntünün farklı özelliklerini çıkarmayı amaçlar. Evrişim işlemi, görüntüdeki kenarlar, dokular, renkler ve diğer önemli ayrıntıları tespit etmek için kullanılır. Evrişim işlemlerinin adımları sırasıyla şunlardır:\n",
    "\n",
    "1. Filtre Tanımlama: \n",
    "Filtre, genellikle küçük boyutlu (3x3 veya 5x5) bir matristir. Her filtre, belirli bir özelliği vurgulamak için tasarlanmıştır. Örneğin, kenar algılama için farklı, bulanıklaştırma için farklı filtreler kullanılır.\n",
    "\n",
    "2. Filtrenin Görüntü Üzerinde Kaydırılması: \n",
    "Filtre, giriş görüntüsünün sol üst köşesine yerleştirilir. Filtrenin her bir elemanı, görüntünün karşılık gelen bölgesiyle çarpılır. Çarpım sonuçları toplanarak yeni bir piksel değeri elde edilir. Filtre, görüntü boyunca belirli bir adım (stride) ile kaydırılır ve bu işlem tüm görüntü üzerinde tekrarlanır. Padding, görüntünün kenarlarına eklenen ekstra piksel sayısıdır ve genellikle görüntünün boyutunu kontrol etmek veya kenar bilgilerini korumak amacıyla kullanılır. Bu çalışmada, stride değeri 1 ve padding değeri 0 olarak belirlenmiştir.\n",
    "\n",
    "3. Sonuç: \n",
    "Filtre uygulandıktan sonra, her bir konumda elde edilen değerler yeni bir görüntü oluşturur. Bu yeni görüntü, orijinal görüntünün belirli özelliklerini vurgular veya değiştirir."
   ]
  },
  {
   "cell_type": "markdown",
   "id": "0926a699",
   "metadata": {},
   "source": [
    "![CNN](cnn1.png)\n"
   ]
  },
  {
   "cell_type": "markdown",
   "id": "d58cd39c",
   "metadata": {},
   "source": [
    "##  1.2) İleri Besleme (Forward Pass) Nedir?"
   ]
  },
  {
   "cell_type": "markdown",
   "id": "79b9ddfa",
   "metadata": {},
   "source": [
    "### \n",
    "İleri besleme, yapay sinir ağlarında giriş verisinin ağ boyunca ileriye doğru taşınması ve her bir katmanda çıktı değerlerinin hesaplanması sürecidir. Bu süreç, ağın tahmin yapabilmesi için gereklidir ve genellikle eğitim (training) ve çıkarım (inference) aşamalarının temelini oluşturur. İleri besleme, ağın ağırlıklarını güncellemek için gerekli olan hatayı hesaplamadan önce gerçekleşir.  İleri besleme adımları sırasıyla şöyledir:\n",
    "\n",
    "    1. Girdi Verisinin Alınması: \n",
    "    Ağın ilk katmanına (genellikle giriş katmanı) sunulan ham veri setidir. Bu, bir görüntü, metin veya herhangi bir sayısal veri olabilir. Örneğin, bir görüntü sınıflandırma ağında, giriş verisi genellikle piksel değerlerinden oluşan bir matristir.\n",
    "\n",
    "    2. Evrişim Katmanları: \n",
    "    Girdi verisi, bir veya birden fazla evrişim katmanından geçirilir. Her evrişim katmanı, belirli sayıda filtre kullanarak giriş verisinin özelliklerini çıkarır. Filtreler, görüntüdeki kenarlar, dokular, renkler gibi düşük seviyeli özellikleri tespit eder. Matematiksel olarak, her filtre ile giriş verisi arasında evrişim işlemi gerçekleştirilir.\n",
    "\n",
    "    Denklem 1’de gösterilmektedir. Burada “*” konvolüsyon işlemini ve Bias filtreye eklenen sabit bir değerdir.\n",
    "\n",
    "\t\t\t\t\tÇıkış= Giriş * Filtre + Bias (1)\n",
    "\n",
    "    3. Aktivasyon Fonksiyonları: \n",
    "    Her evrişim katmanının ardından, doğrusal olmayan bir aktivasyon fonksiyonu uygulanır. Aktivasyon fonksiyonları, ağa doğrusal olmayanlık kazandırarak daha karmaşık ilişkileri öğrenmesini sağlar. Yaygın kullanılan aktivasyon fonksiyonları arasında ReLU (Rectified Linear Unit) bulunur [5]. Denklem 2’de ReLU’ya ait eşitlik bulunmaktadır.\n",
    "\n",
    "\t\t\t\t\tRELU=> f(x)=max(0,x) (2)\n",
    "\n",
    "    4. Havuzlama Katmanları: \n",
    "    Evrişim katmanlarından sonra, boyut azaltma ve hesaplama maliyetini düşürmek için havuzlama katmanları kullanılır. Maksimum Havuzlama (Max Pooling) gibi teknikler uygulanarak, özellik haritalarının boyutu küçültülür. Max Pooling, matris üzerinde belirli boyutlarda kaydırılarak işlemi gerçekleştirir ve her bölgeden maksimum değeri seçerek yeni bir, daha küçük boyutlu çıktı matrisi oluşturur. Max Pooling’ e ait örnek Şekil 4’te gösterilmektedir"
   ]
  },
  {
   "cell_type": "markdown",
   "id": "543caad7",
   "metadata": {},
   "source": [
    "<img src=\"havuzlama.png\" width=\"80%\" height=\"auto\">\n"
   ]
  },
  {
   "cell_type": "markdown",
   "id": "76d550e5",
   "metadata": {},
   "source": [
    "###\n",
    "\n",
    "    5. Tam Bağlantı Katmanları: Evrişim ve havuzlama katmanlarından sonra, genellikle bir veya daha fazla tam bağlantılı (dense) katman bulunur. Bu katmanlar, öğrenilen özellikleri kullanarak nihai çıktıyı üretir. Tam bağlantılı katmanlarda, her nöron bir önceki katmandaki tüm nöronlara bağlıdır. Matematiksel olarak Denklem 3’te gösterildiği gibi ağrılık matrisi ile giriş verisi çarpılıp sabit bir değer olan bias eklenir.\n",
    "\n",
    "                     Çıkış= Giriş x Ağırlık MAtrisi + Bias (3)\n",
    "    \n",
    "    6. Çıkış Katmanı: Ağın son katmanıdır ve modelin tahminini üretir. Sınıflandırma görevlerinde, genellikle Softmax aktivasyon fonksiyonu kullanılır. Denklem 4’te Softmax fonksiyonuna ait eşitlik bulunmaktadır. Bu fonksiyon, her sınıfa ait olma olasılığı hesaplar.\n",
    "\n",
    "    ## Softmax Fonksiyonu\n",
    "\n",
    "Softmax fonksiyonu şu şekilde tanımlanır:\n",
    "\n",
    "$$\n",
    "\\text{Softmax}(x_i) = \\frac{e^{x_i}}{\\sum_{j=1}^{K} e^{x_j}}\n",
    "$$\n",
    "\n",
    "Burada:\n",
    "- $x_i$: i. elemanın skor değeri\n",
    "- $K$: toplam eleman sayısı\n",
    "- $\\sum_{j=1}^{K}$: tüm elemanlar üzerinde toplam\n",
    "\n",
    "\n",
    "\t\t\t\t\t\t\t\t  \t(4)\n",
    "İleri beslemede, eğitim sırasında modelin Model, verilen bir giriş verisi için tahmin üretir.Bu tahmin, eğitim sürecinde modelin ne kadar doğru olduğunu değerlendirmek için kullanılır. Ardından tahmin edilen değer ile gerçek değer arasındaki fark hesaplanır. Bu farka hata denir. Hata, modelin performansını ölçmek için kullanılan bir kayıp fonksiyonu (loss function) ile hesaplanır. İleri besleme sırasında hesaplanan değerler geri yayılım algoritması için gerekli olan ara değerlerin hesaplanmasını sağlar. Bu ara değerler, hatanın her bir ağırlığa nasıl dağıldığını belirlemek için kullanılır"
   ]
  },
  {
   "cell_type": "markdown",
   "id": "4cfef944",
   "metadata": {},
   "source": [
    "## Softmax Fonksiyonu\n",
    "\n",
    "Softmax fonksiyonu şu şekilde tanımlanır:\n",
    "\n",
    "$$\n",
    "\\text{Softmax}(x_i) = \\frac{e^{x_i}}{\\sum_{j=1}^{K} e^{x_j}}\n",
    "$$\n",
    "\n",
    "Burada:\n",
    "- $x_i$: i. elemanın skor değeri\n",
    "- $K$: toplam eleman sayısı\n",
    "- $\\sum_{j=1}^{K}$: tüm elemanlar üzerinde toplam"
   ]
  },
  {
   "cell_type": "code",
   "execution_count": null,
   "id": "df773d31",
   "metadata": {},
   "outputs": [],
   "source": [
    "!pip install tensorflow -U"
   ]
  },
  {
   "cell_type": "code",
   "execution_count": null,
   "id": "74e272ef",
   "metadata": {},
   "outputs": [],
   "source": [
    "import tensorflow as tf"
   ]
  },
  {
   "cell_type": "code",
   "execution_count": 9,
   "id": "147e9702",
   "metadata": {},
   "outputs": [],
   "source": [
    "(train_images,train_labels),(test_images, test_labels)=tf.keras.datasets.cifar10.load_data()"
   ]
  },
  {
   "cell_type": "code",
   "execution_count": 10,
   "id": "31338df6",
   "metadata": {},
   "outputs": [
    {
     "data": {
      "text/plain": [
       "(50000, 32, 32, 3)"
      ]
     },
     "execution_count": 10,
     "metadata": {},
     "output_type": "execute_result"
    }
   ],
   "source": [
    "train_images.shape"
   ]
  },
  {
   "cell_type": "markdown",
   "id": "71ac4de0",
   "metadata": {},
   "source": [
    "(50000, 32, 32, 3)\n",
    "\n",
    "50000 --> Satır sayısı, 50000 adet resim\n",
    "\n",
    "  32  --> Fotoğraf matrislerinin her birisinin satır sayısı = 32 px\n",
    "\n",
    "  32  --> Fotoğraf matrislerinin her bir sütun sayısı = 32 px\n",
    "  \n",
    "  3   --> Kanal sayısı(RGB) "
   ]
  },
  {
   "cell_type": "code",
   "execution_count": 11,
   "id": "ab3693ed",
   "metadata": {},
   "outputs": [
    {
     "data": {
      "text/plain": [
       "array([[6],\n",
       "       [9],\n",
       "       [9],\n",
       "       ...,\n",
       "       [9],\n",
       "       [1],\n",
       "       [1]], shape=(50000, 1), dtype=uint8)"
      ]
     },
     "execution_count": 11,
     "metadata": {},
     "output_type": "execute_result"
    }
   ],
   "source": [
    "train_labels"
   ]
  },
  {
   "cell_type": "code",
   "execution_count": 12,
   "id": "7f7d3b11",
   "metadata": {},
   "outputs": [
    {
     "data": {
      "text/plain": [
       "(10000, 32, 32, 3)"
      ]
     },
     "execution_count": 12,
     "metadata": {},
     "output_type": "execute_result"
    }
   ],
   "source": [
    "test_images.shape"
   ]
  },
  {
   "cell_type": "code",
   "execution_count": 13,
   "id": "b3e924c2",
   "metadata": {},
   "outputs": [
    {
     "data": {
      "text/plain": [
       "array([[3],\n",
       "       [8],\n",
       "       [8],\n",
       "       ...,\n",
       "       [5],\n",
       "       [1],\n",
       "       [7]], shape=(10000, 1), dtype=uint8)"
      ]
     },
     "execution_count": 13,
     "metadata": {},
     "output_type": "execute_result"
    }
   ],
   "source": [
    "test_labels"
   ]
  },
  {
   "cell_type": "code",
   "execution_count": 14,
   "id": "4c093bb9",
   "metadata": {},
   "outputs": [],
   "source": [
    "y_labels = ['Uçak', 'Araba', 'Kuş', 'Kedi', 'Geyik', 'Köpek', 'Kurbağa', 'At', 'Gemi', 'Kamyon']\n"
   ]
  },
  {
   "cell_type": "code",
   "execution_count": 15,
   "id": "8d01c286",
   "metadata": {},
   "outputs": [
    {
     "data": {
      "text/plain": [
       "'Köpek'"
      ]
     },
     "execution_count": 15,
     "metadata": {},
     "output_type": "execute_result"
    },
    {
     "data": {
      "image/png": "[encoded data removed]",
      "text/plain": [
       "<Figure size 600x600 with 1 Axes>"
      ]
     },
     "metadata": {},
     "output_type": "display_data"
    }
   ],
   "source": [
    "import matplotlib.pyplot as plt\n",
    "\n",
    "plt.figure(figsize=(6,6))\n",
    "plt.imshow(train_images[15987])\n",
    "\n",
    "y_labels[train_labels[15987][0]]\n"
   ]
  },
  {
   "cell_type": "markdown",
   "id": "c478145f",
   "metadata": {},
   "source": [
    "CNN Modeli"
   ]
  },
  {
   "cell_type": "code",
   "execution_count": 16,
   "id": "9f9876e3",
   "metadata": {},
   "outputs": [],
   "source": [
    "model=tf.keras.Sequential()"
   ]
  },
  {
   "cell_type": "code",
   "execution_count": null,
   "id": "440279d9",
   "metadata": {},
   "outputs": [],
   "source": [
    "model.add(tf.keras.layers.Conv2D(32,(3,3),activation='relu',input_shape=(32,32,3)))"
   ]
  },
  {
   "cell_type": "code",
   "execution_count": 18,
   "id": "d3a2a3fe",
   "metadata": {},
   "outputs": [
    {
     "data": {
      "text/html": [
       "<pre style=\"white-space:pre;overflow-x:auto;line-height:normal;font-family:Menlo,'DejaVu Sans Mono',consolas,'Courier New',monospace\"><span style=\"font-weight: bold\">Model: \"sequential\"</span>\n",
       "</pre>\n"
      ],
      "text/plain": [
       "\u001b[1mModel: \"sequential\"\u001b[0m\n"
      ]
     },
     "metadata": {},
     "output_type": "display_data"
    },
    {
     "data": {
      "text/html": [
       "<pre style=\"white-space:pre;overflow-x:auto;line-height:normal;font-family:Menlo,'DejaVu Sans Mono',consolas,'Courier New',monospace\">┏━━━━━━━━━━━━━━━━━━━━━━━━━━━━━━━━━┳━━━━━━━━━━━━━━━━━━━━━━━━┳━━━━━━━━━━━━━━━┓\n",
       "┃<span style=\"font-weight: bold\"> Layer (type)                    </span>┃<span style=\"font-weight: bold\"> Output Shape           </span>┃<span style=\"font-weight: bold\">       Param # </span>┃\n",
       "┡━━━━━━━━━━━━━━━━━━━━━━━━━━━━━━━━━╇━━━━━━━━━━━━━━━━━━━━━━━━╇━━━━━━━━━━━━━━━┩\n",
       "│ conv2d (<span style=\"color: #0087ff; text-decoration-color: #0087ff\">Conv2D</span>)                 │ (<span style=\"color: #00d7ff; text-decoration-color: #00d7ff\">None</span>, <span style=\"color: #00af00; text-decoration-color: #00af00\">30</span>, <span style=\"color: #00af00; text-decoration-color: #00af00\">30</span>, <span style=\"color: #00af00; text-decoration-color: #00af00\">32</span>)     │           <span style=\"color: #00af00; text-decoration-color: #00af00\">896</span> │\n",
       "└─────────────────────────────────┴────────────────────────┴───────────────┘\n",
       "</pre>\n"
      ],
      "text/plain": [
       "┏━━━━━━━━━━━━━━━━━━━━━━━━━━━━━━━━━┳━━━━━━━━━━━━━━━━━━━━━━━━┳━━━━━━━━━━━━━━━┓\n",
       "┃\u001b[1m \u001b[0m\u001b[1mLayer (type)                   \u001b[0m\u001b[1m \u001b[0m┃\u001b[1m \u001b[0m\u001b[1mOutput Shape          \u001b[0m\u001b[1m \u001b[0m┃\u001b[1m \u001b[0m\u001b[1m      Param #\u001b[0m\u001b[1m \u001b[0m┃\n",
       "┡━━━━━━━━━━━━━━━━━━━━━━━━━━━━━━━━━╇━━━━━━━━━━━━━━━━━━━━━━━━╇━━━━━━━━━━━━━━━┩\n",
       "│ conv2d (\u001b[38;5;33mConv2D\u001b[0m)                 │ (\u001b[38;5;45mNone\u001b[0m, \u001b[38;5;34m30\u001b[0m, \u001b[38;5;34m30\u001b[0m, \u001b[38;5;34m32\u001b[0m)     │           \u001b[38;5;34m896\u001b[0m │\n",
       "└─────────────────────────────────┴────────────────────────┴───────────────┘\n"
      ]
     },
     "metadata": {},
     "output_type": "display_data"
    },
    {
     "data": {
      "text/html": [
       "<pre style=\"white-space:pre;overflow-x:auto;line-height:normal;font-family:Menlo,'DejaVu Sans Mono',consolas,'Courier New',monospace\"><span style=\"font-weight: bold\"> Total params: </span><span style=\"color: #00af00; text-decoration-color: #00af00\">896</span> (3.50 KB)\n",
       "</pre>\n"
      ],
      "text/plain": [
       "\u001b[1m Total params: \u001b[0m\u001b[38;5;34m896\u001b[0m (3.50 KB)\n"
      ]
     },
     "metadata": {},
     "output_type": "display_data"
    },
    {
     "data": {
      "text/html": [
       "<pre style=\"white-space:pre;overflow-x:auto;line-height:normal;font-family:Menlo,'DejaVu Sans Mono',consolas,'Courier New',monospace\"><span style=\"font-weight: bold\"> Trainable params: </span><span style=\"color: #00af00; text-decoration-color: #00af00\">896</span> (3.50 KB)\n",
       "</pre>\n"
      ],
      "text/plain": [
       "\u001b[1m Trainable params: \u001b[0m\u001b[38;5;34m896\u001b[0m (3.50 KB)\n"
      ]
     },
     "metadata": {},
     "output_type": "display_data"
    },
    {
     "data": {
      "text/html": [
       "<pre style=\"white-space:pre;overflow-x:auto;line-height:normal;font-family:Menlo,'DejaVu Sans Mono',consolas,'Courier New',monospace\"><span style=\"font-weight: bold\"> Non-trainable params: </span><span style=\"color: #00af00; text-decoration-color: #00af00\">0</span> (0.00 B)\n",
       "</pre>\n"
      ],
      "text/plain": [
       "\u001b[1m Non-trainable params: \u001b[0m\u001b[38;5;34m0\u001b[0m (0.00 B)\n"
      ]
     },
     "metadata": {},
     "output_type": "display_data"
    }
   ],
   "source": [
    "model.summary()"
   ]
  },
  {
   "cell_type": "code",
   "execution_count": 19,
   "id": "893f956a",
   "metadata": {},
   "outputs": [],
   "source": [
    "model.add(tf.keras.layers.MaxPooling2D((2,2)))"
   ]
  },
  {
   "cell_type": "code",
   "execution_count": 20,
   "id": "94f9dbac",
   "metadata": {},
   "outputs": [
    {
     "data": {
      "text/html": [
       "<pre style=\"white-space:pre;overflow-x:auto;line-height:normal;font-family:Menlo,'DejaVu Sans Mono',consolas,'Courier New',monospace\"><span style=\"font-weight: bold\">Model: \"sequential\"</span>\n",
       "</pre>\n"
      ],
      "text/plain": [
       "\u001b[1mModel: \"sequential\"\u001b[0m\n"
      ]
     },
     "metadata": {},
     "output_type": "display_data"
    },
    {
     "data": {
      "text/html": [
       "<pre style=\"white-space:pre;overflow-x:auto;line-height:normal;font-family:Menlo,'DejaVu Sans Mono',consolas,'Courier New',monospace\">┏━━━━━━━━━━━━━━━━━━━━━━━━━━━━━━━━━┳━━━━━━━━━━━━━━━━━━━━━━━━┳━━━━━━━━━━━━━━━┓\n",
       "┃<span style=\"font-weight: bold\"> Layer (type)                    </span>┃<span style=\"font-weight: bold\"> Output Shape           </span>┃<span style=\"font-weight: bold\">       Param # </span>┃\n",
       "┡━━━━━━━━━━━━━━━━━━━━━━━━━━━━━━━━━╇━━━━━━━━━━━━━━━━━━━━━━━━╇━━━━━━━━━━━━━━━┩\n",
       "│ conv2d (<span style=\"color: #0087ff; text-decoration-color: #0087ff\">Conv2D</span>)                 │ (<span style=\"color: #00d7ff; text-decoration-color: #00d7ff\">None</span>, <span style=\"color: #00af00; text-decoration-color: #00af00\">30</span>, <span style=\"color: #00af00; text-decoration-color: #00af00\">30</span>, <span style=\"color: #00af00; text-decoration-color: #00af00\">32</span>)     │           <span style=\"color: #00af00; text-decoration-color: #00af00\">896</span> │\n",
       "├─────────────────────────────────┼────────────────────────┼───────────────┤\n",
       "│ max_pooling2d (<span style=\"color: #0087ff; text-decoration-color: #0087ff\">MaxPooling2D</span>)    │ (<span style=\"color: #00d7ff; text-decoration-color: #00d7ff\">None</span>, <span style=\"color: #00af00; text-decoration-color: #00af00\">15</span>, <span style=\"color: #00af00; text-decoration-color: #00af00\">15</span>, <span style=\"color: #00af00; text-decoration-color: #00af00\">32</span>)     │             <span style=\"color: #00af00; text-decoration-color: #00af00\">0</span> │\n",
       "└─────────────────────────────────┴────────────────────────┴───────────────┘\n",
       "</pre>\n"
      ],
      "text/plain": [
       "┏━━━━━━━━━━━━━━━━━━━━━━━━━━━━━━━━━┳━━━━━━━━━━━━━━━━━━━━━━━━┳━━━━━━━━━━━━━━━┓\n",
       "┃\u001b[1m \u001b[0m\u001b[1mLayer (type)                   \u001b[0m\u001b[1m \u001b[0m┃\u001b[1m \u001b[0m\u001b[1mOutput Shape          \u001b[0m\u001b[1m \u001b[0m┃\u001b[1m \u001b[0m\u001b[1m      Param #\u001b[0m\u001b[1m \u001b[0m┃\n",
       "┡━━━━━━━━━━━━━━━━━━━━━━━━━━━━━━━━━╇━━━━━━━━━━━━━━━━━━━━━━━━╇━━━━━━━━━━━━━━━┩\n",
       "│ conv2d (\u001b[38;5;33mConv2D\u001b[0m)                 │ (\u001b[38;5;45mNone\u001b[0m, \u001b[38;5;34m30\u001b[0m, \u001b[38;5;34m30\u001b[0m, \u001b[38;5;34m32\u001b[0m)     │           \u001b[38;5;34m896\u001b[0m │\n",
       "├─────────────────────────────────┼────────────────────────┼───────────────┤\n",
       "│ max_pooling2d (\u001b[38;5;33mMaxPooling2D\u001b[0m)    │ (\u001b[38;5;45mNone\u001b[0m, \u001b[38;5;34m15\u001b[0m, \u001b[38;5;34m15\u001b[0m, \u001b[38;5;34m32\u001b[0m)     │             \u001b[38;5;34m0\u001b[0m │\n",
       "└─────────────────────────────────┴────────────────────────┴───────────────┘\n"
      ]
     },
     "metadata": {},
     "output_type": "display_data"
    },
    {
     "data": {
      "text/html": [
       "<pre style=\"white-space:pre;overflow-x:auto;line-height:normal;font-family:Menlo,'DejaVu Sans Mono',consolas,'Courier New',monospace\"><span style=\"font-weight: bold\"> Total params: </span><span style=\"color: #00af00; text-decoration-color: #00af00\">896</span> (3.50 KB)\n",
       "</pre>\n"
      ],
      "text/plain": [
       "\u001b[1m Total params: \u001b[0m\u001b[38;5;34m896\u001b[0m (3.50 KB)\n"
      ]
     },
     "metadata": {},
     "output_type": "display_data"
    },
    {
     "data": {
      "text/html": [
       "<pre style=\"white-space:pre;overflow-x:auto;line-height:normal;font-family:Menlo,'DejaVu Sans Mono',consolas,'Courier New',monospace\"><span style=\"font-weight: bold\"> Trainable params: </span><span style=\"color: #00af00; text-decoration-color: #00af00\">896</span> (3.50 KB)\n",
       "</pre>\n"
      ],
      "text/plain": [
       "\u001b[1m Trainable params: \u001b[0m\u001b[38;5;34m896\u001b[0m (3.50 KB)\n"
      ]
     },
     "metadata": {},
     "output_type": "display_data"
    },
    {
     "data": {
      "text/html": [
       "<pre style=\"white-space:pre;overflow-x:auto;line-height:normal;font-family:Menlo,'DejaVu Sans Mono',consolas,'Courier New',monospace\"><span style=\"font-weight: bold\"> Non-trainable params: </span><span style=\"color: #00af00; text-decoration-color: #00af00\">0</span> (0.00 B)\n",
       "</pre>\n"
      ],
      "text/plain": [
       "\u001b[1m Non-trainable params: \u001b[0m\u001b[38;5;34m0\u001b[0m (0.00 B)\n"
      ]
     },
     "metadata": {},
     "output_type": "display_data"
    }
   ],
   "source": [
    "model.summary()"
   ]
  },
  {
   "cell_type": "code",
   "execution_count": 21,
   "id": "d5cc2556",
   "metadata": {},
   "outputs": [],
   "source": [
    "model.add(tf.keras.layers.Conv2D(32,(3,3),strides=(2,1),padding='same',activation='relu'))"
   ]
  },
  {
   "cell_type": "code",
   "execution_count": 22,
   "id": "60af2963",
   "metadata": {},
   "outputs": [
    {
     "data": {
      "text/html": [
       "<pre style=\"white-space:pre;overflow-x:auto;line-height:normal;font-family:Menlo,'DejaVu Sans Mono',consolas,'Courier New',monospace\"><span style=\"font-weight: bold\">Model: \"sequential\"</span>\n",
       "</pre>\n"
      ],
      "text/plain": [
       "\u001b[1mModel: \"sequential\"\u001b[0m\n"
      ]
     },
     "metadata": {},
     "output_type": "display_data"
    },
    {
     "data": {
      "text/html": [
       "<pre style=\"white-space:pre;overflow-x:auto;line-height:normal;font-family:Menlo,'DejaVu Sans Mono',consolas,'Courier New',monospace\">┏━━━━━━━━━━━━━━━━━━━━━━━━━━━━━━━━━┳━━━━━━━━━━━━━━━━━━━━━━━━┳━━━━━━━━━━━━━━━┓\n",
       "┃<span style=\"font-weight: bold\"> Layer (type)                    </span>┃<span style=\"font-weight: bold\"> Output Shape           </span>┃<span style=\"font-weight: bold\">       Param # </span>┃\n",
       "┡━━━━━━━━━━━━━━━━━━━━━━━━━━━━━━━━━╇━━━━━━━━━━━━━━━━━━━━━━━━╇━━━━━━━━━━━━━━━┩\n",
       "│ conv2d (<span style=\"color: #0087ff; text-decoration-color: #0087ff\">Conv2D</span>)                 │ (<span style=\"color: #00d7ff; text-decoration-color: #00d7ff\">None</span>, <span style=\"color: #00af00; text-decoration-color: #00af00\">30</span>, <span style=\"color: #00af00; text-decoration-color: #00af00\">30</span>, <span style=\"color: #00af00; text-decoration-color: #00af00\">32</span>)     │           <span style=\"color: #00af00; text-decoration-color: #00af00\">896</span> │\n",
       "├─────────────────────────────────┼────────────────────────┼───────────────┤\n",
       "│ max_pooling2d (<span style=\"color: #0087ff; text-decoration-color: #0087ff\">MaxPooling2D</span>)    │ (<span style=\"color: #00d7ff; text-decoration-color: #00d7ff\">None</span>, <span style=\"color: #00af00; text-decoration-color: #00af00\">15</span>, <span style=\"color: #00af00; text-decoration-color: #00af00\">15</span>, <span style=\"color: #00af00; text-decoration-color: #00af00\">32</span>)     │             <span style=\"color: #00af00; text-decoration-color: #00af00\">0</span> │\n",
       "├─────────────────────────────────┼────────────────────────┼───────────────┤\n",
       "│ conv2d_1 (<span style=\"color: #0087ff; text-decoration-color: #0087ff\">Conv2D</span>)               │ (<span style=\"color: #00d7ff; text-decoration-color: #00d7ff\">None</span>, <span style=\"color: #00af00; text-decoration-color: #00af00\">8</span>, <span style=\"color: #00af00; text-decoration-color: #00af00\">15</span>, <span style=\"color: #00af00; text-decoration-color: #00af00\">32</span>)      │         <span style=\"color: #00af00; text-decoration-color: #00af00\">9,248</span> │\n",
       "└─────────────────────────────────┴────────────────────────┴───────────────┘\n",
       "</pre>\n"
      ],
      "text/plain": [
       "┏━━━━━━━━━━━━━━━━━━━━━━━━━━━━━━━━━┳━━━━━━━━━━━━━━━━━━━━━━━━┳━━━━━━━━━━━━━━━┓\n",
       "┃\u001b[1m \u001b[0m\u001b[1mLayer (type)                   \u001b[0m\u001b[1m \u001b[0m┃\u001b[1m \u001b[0m\u001b[1mOutput Shape          \u001b[0m\u001b[1m \u001b[0m┃\u001b[1m \u001b[0m\u001b[1m      Param #\u001b[0m\u001b[1m \u001b[0m┃\n",
       "┡━━━━━━━━━━━━━━━━━━━━━━━━━━━━━━━━━╇━━━━━━━━━━━━━━━━━━━━━━━━╇━━━━━━━━━━━━━━━┩\n",
       "│ conv2d (\u001b[38;5;33mConv2D\u001b[0m)                 │ (\u001b[38;5;45mNone\u001b[0m, \u001b[38;5;34m30\u001b[0m, \u001b[38;5;34m30\u001b[0m, \u001b[38;5;34m32\u001b[0m)     │           \u001b[38;5;34m896\u001b[0m │\n",
       "├─────────────────────────────────┼────────────────────────┼───────────────┤\n",
       "│ max_pooling2d (\u001b[38;5;33mMaxPooling2D\u001b[0m)    │ (\u001b[38;5;45mNone\u001b[0m, \u001b[38;5;34m15\u001b[0m, \u001b[38;5;34m15\u001b[0m, \u001b[38;5;34m32\u001b[0m)     │             \u001b[38;5;34m0\u001b[0m │\n",
       "├─────────────────────────────────┼────────────────────────┼───────────────┤\n",
       "│ conv2d_1 (\u001b[38;5;33mConv2D\u001b[0m)               │ (\u001b[38;5;45mNone\u001b[0m, \u001b[38;5;34m8\u001b[0m, \u001b[38;5;34m15\u001b[0m, \u001b[38;5;34m32\u001b[0m)      │         \u001b[38;5;34m9,248\u001b[0m │\n",
       "└─────────────────────────────────┴────────────────────────┴───────────────┘\n"
      ]
     },
     "metadata": {},
     "output_type": "display_data"
    },
    {
     "data": {
      "text/html": [
       "<pre style=\"white-space:pre;overflow-x:auto;line-height:normal;font-family:Menlo,'DejaVu Sans Mono',consolas,'Courier New',monospace\"><span style=\"font-weight: bold\"> Total params: </span><span style=\"color: #00af00; text-decoration-color: #00af00\">10,144</span> (39.62 KB)\n",
       "</pre>\n"
      ],
      "text/plain": [
       "\u001b[1m Total params: \u001b[0m\u001b[38;5;34m10,144\u001b[0m (39.62 KB)\n"
      ]
     },
     "metadata": {},
     "output_type": "display_data"
    },
    {
     "data": {
      "text/html": [
       "<pre style=\"white-space:pre;overflow-x:auto;line-height:normal;font-family:Menlo,'DejaVu Sans Mono',consolas,'Courier New',monospace\"><span style=\"font-weight: bold\"> Trainable params: </span><span style=\"color: #00af00; text-decoration-color: #00af00\">10,144</span> (39.62 KB)\n",
       "</pre>\n"
      ],
      "text/plain": [
       "\u001b[1m Trainable params: \u001b[0m\u001b[38;5;34m10,144\u001b[0m (39.62 KB)\n"
      ]
     },
     "metadata": {},
     "output_type": "display_data"
    },
    {
     "data": {
      "text/html": [
       "<pre style=\"white-space:pre;overflow-x:auto;line-height:normal;font-family:Menlo,'DejaVu Sans Mono',consolas,'Courier New',monospace\"><span style=\"font-weight: bold\"> Non-trainable params: </span><span style=\"color: #00af00; text-decoration-color: #00af00\">0</span> (0.00 B)\n",
       "</pre>\n"
      ],
      "text/plain": [
       "\u001b[1m Non-trainable params: \u001b[0m\u001b[38;5;34m0\u001b[0m (0.00 B)\n"
      ]
     },
     "metadata": {},
     "output_type": "display_data"
    }
   ],
   "source": [
    "model.summary()"
   ]
  },
  {
   "cell_type": "code",
   "execution_count": 23,
   "id": "67b31bb7",
   "metadata": {},
   "outputs": [],
   "source": [
    "model.add(tf.keras.layers.BatchNormalization())"
   ]
  },
  {
   "cell_type": "code",
   "execution_count": 24,
   "id": "1efa63b1",
   "metadata": {},
   "outputs": [],
   "source": [
    "model.add(tf.keras.layers.Conv2D(32,(3,3),kernel_initializer=tf.keras.initializers.random_normal(0.001), use_bias=False, activation='relu'))"
   ]
  },
  {
   "cell_type": "code",
   "execution_count": 25,
   "id": "ccc6e632",
   "metadata": {},
   "outputs": [
    {
     "data": {
      "text/html": [
       "<pre style=\"white-space:pre;overflow-x:auto;line-height:normal;font-family:Menlo,'DejaVu Sans Mono',consolas,'Courier New',monospace\"><span style=\"font-weight: bold\">Model: \"sequential\"</span>\n",
       "</pre>\n"
      ],
      "text/plain": [
       "\u001b[1mModel: \"sequential\"\u001b[0m\n"
      ]
     },
     "metadata": {},
     "output_type": "display_data"
    },
    {
     "data": {
      "text/html": [
       "<pre style=\"white-space:pre;overflow-x:auto;line-height:normal;font-family:Menlo,'DejaVu Sans Mono',consolas,'Courier New',monospace\">┏━━━━━━━━━━━━━━━━━━━━━━━━━━━━━━━━━┳━━━━━━━━━━━━━━━━━━━━━━━━┳━━━━━━━━━━━━━━━┓\n",
       "┃<span style=\"font-weight: bold\"> Layer (type)                    </span>┃<span style=\"font-weight: bold\"> Output Shape           </span>┃<span style=\"font-weight: bold\">       Param # </span>┃\n",
       "┡━━━━━━━━━━━━━━━━━━━━━━━━━━━━━━━━━╇━━━━━━━━━━━━━━━━━━━━━━━━╇━━━━━━━━━━━━━━━┩\n",
       "│ conv2d (<span style=\"color: #0087ff; text-decoration-color: #0087ff\">Conv2D</span>)                 │ (<span style=\"color: #00d7ff; text-decoration-color: #00d7ff\">None</span>, <span style=\"color: #00af00; text-decoration-color: #00af00\">30</span>, <span style=\"color: #00af00; text-decoration-color: #00af00\">30</span>, <span style=\"color: #00af00; text-decoration-color: #00af00\">32</span>)     │           <span style=\"color: #00af00; text-decoration-color: #00af00\">896</span> │\n",
       "├─────────────────────────────────┼────────────────────────┼───────────────┤\n",
       "│ max_pooling2d (<span style=\"color: #0087ff; text-decoration-color: #0087ff\">MaxPooling2D</span>)    │ (<span style=\"color: #00d7ff; text-decoration-color: #00d7ff\">None</span>, <span style=\"color: #00af00; text-decoration-color: #00af00\">15</span>, <span style=\"color: #00af00; text-decoration-color: #00af00\">15</span>, <span style=\"color: #00af00; text-decoration-color: #00af00\">32</span>)     │             <span style=\"color: #00af00; text-decoration-color: #00af00\">0</span> │\n",
       "├─────────────────────────────────┼────────────────────────┼───────────────┤\n",
       "│ conv2d_1 (<span style=\"color: #0087ff; text-decoration-color: #0087ff\">Conv2D</span>)               │ (<span style=\"color: #00d7ff; text-decoration-color: #00d7ff\">None</span>, <span style=\"color: #00af00; text-decoration-color: #00af00\">8</span>, <span style=\"color: #00af00; text-decoration-color: #00af00\">15</span>, <span style=\"color: #00af00; text-decoration-color: #00af00\">32</span>)      │         <span style=\"color: #00af00; text-decoration-color: #00af00\">9,248</span> │\n",
       "├─────────────────────────────────┼────────────────────────┼───────────────┤\n",
       "│ batch_normalization             │ (<span style=\"color: #00d7ff; text-decoration-color: #00d7ff\">None</span>, <span style=\"color: #00af00; text-decoration-color: #00af00\">8</span>, <span style=\"color: #00af00; text-decoration-color: #00af00\">15</span>, <span style=\"color: #00af00; text-decoration-color: #00af00\">32</span>)      │           <span style=\"color: #00af00; text-decoration-color: #00af00\">128</span> │\n",
       "│ (<span style=\"color: #0087ff; text-decoration-color: #0087ff\">BatchNormalization</span>)            │                        │               │\n",
       "├─────────────────────────────────┼────────────────────────┼───────────────┤\n",
       "│ conv2d_2 (<span style=\"color: #0087ff; text-decoration-color: #0087ff\">Conv2D</span>)               │ (<span style=\"color: #00d7ff; text-decoration-color: #00d7ff\">None</span>, <span style=\"color: #00af00; text-decoration-color: #00af00\">6</span>, <span style=\"color: #00af00; text-decoration-color: #00af00\">13</span>, <span style=\"color: #00af00; text-decoration-color: #00af00\">32</span>)      │         <span style=\"color: #00af00; text-decoration-color: #00af00\">9,216</span> │\n",
       "└─────────────────────────────────┴────────────────────────┴───────────────┘\n",
       "</pre>\n"
      ],
      "text/plain": [
       "┏━━━━━━━━━━━━━━━━━━━━━━━━━━━━━━━━━┳━━━━━━━━━━━━━━━━━━━━━━━━┳━━━━━━━━━━━━━━━┓\n",
       "┃\u001b[1m \u001b[0m\u001b[1mLayer (type)                   \u001b[0m\u001b[1m \u001b[0m┃\u001b[1m \u001b[0m\u001b[1mOutput Shape          \u001b[0m\u001b[1m \u001b[0m┃\u001b[1m \u001b[0m\u001b[1m      Param #\u001b[0m\u001b[1m \u001b[0m┃\n",
       "┡━━━━━━━━━━━━━━━━━━━━━━━━━━━━━━━━━╇━━━━━━━━━━━━━━━━━━━━━━━━╇━━━━━━━━━━━━━━━┩\n",
       "│ conv2d (\u001b[38;5;33mConv2D\u001b[0m)                 │ (\u001b[38;5;45mNone\u001b[0m, \u001b[38;5;34m30\u001b[0m, \u001b[38;5;34m30\u001b[0m, \u001b[38;5;34m32\u001b[0m)     │           \u001b[38;5;34m896\u001b[0m │\n",
       "├─────────────────────────────────┼────────────────────────┼───────────────┤\n",
       "│ max_pooling2d (\u001b[38;5;33mMaxPooling2D\u001b[0m)    │ (\u001b[38;5;45mNone\u001b[0m, \u001b[38;5;34m15\u001b[0m, \u001b[38;5;34m15\u001b[0m, \u001b[38;5;34m32\u001b[0m)     │             \u001b[38;5;34m0\u001b[0m │\n",
       "├─────────────────────────────────┼────────────────────────┼───────────────┤\n",
       "│ conv2d_1 (\u001b[38;5;33mConv2D\u001b[0m)               │ (\u001b[38;5;45mNone\u001b[0m, \u001b[38;5;34m8\u001b[0m, \u001b[38;5;34m15\u001b[0m, \u001b[38;5;34m32\u001b[0m)      │         \u001b[38;5;34m9,248\u001b[0m │\n",
       "├─────────────────────────────────┼────────────────────────┼───────────────┤\n",
       "│ batch_normalization             │ (\u001b[38;5;45mNone\u001b[0m, \u001b[38;5;34m8\u001b[0m, \u001b[38;5;34m15\u001b[0m, \u001b[38;5;34m32\u001b[0m)      │           \u001b[38;5;34m128\u001b[0m │\n",
       "│ (\u001b[38;5;33mBatchNormalization\u001b[0m)            │                        │               │\n",
       "├─────────────────────────────────┼────────────────────────┼───────────────┤\n",
       "│ conv2d_2 (\u001b[38;5;33mConv2D\u001b[0m)               │ (\u001b[38;5;45mNone\u001b[0m, \u001b[38;5;34m6\u001b[0m, \u001b[38;5;34m13\u001b[0m, \u001b[38;5;34m32\u001b[0m)      │         \u001b[38;5;34m9,216\u001b[0m │\n",
       "└─────────────────────────────────┴────────────────────────┴───────────────┘\n"
      ]
     },
     "metadata": {},
     "output_type": "display_data"
    },
    {
     "data": {
      "text/html": [
       "<pre style=\"white-space:pre;overflow-x:auto;line-height:normal;font-family:Menlo,'DejaVu Sans Mono',consolas,'Courier New',monospace\"><span style=\"font-weight: bold\"> Total params: </span><span style=\"color: #00af00; text-decoration-color: #00af00\">19,488</span> (76.12 KB)\n",
       "</pre>\n"
      ],
      "text/plain": [
       "\u001b[1m Total params: \u001b[0m\u001b[38;5;34m19,488\u001b[0m (76.12 KB)\n"
      ]
     },
     "metadata": {},
     "output_type": "display_data"
    },
    {
     "data": {
      "text/html": [
       "<pre style=\"white-space:pre;overflow-x:auto;line-height:normal;font-family:Menlo,'DejaVu Sans Mono',consolas,'Courier New',monospace\"><span style=\"font-weight: bold\"> Trainable params: </span><span style=\"color: #00af00; text-decoration-color: #00af00\">19,424</span> (75.88 KB)\n",
       "</pre>\n"
      ],
      "text/plain": [
       "\u001b[1m Trainable params: \u001b[0m\u001b[38;5;34m19,424\u001b[0m (75.88 KB)\n"
      ]
     },
     "metadata": {},
     "output_type": "display_data"
    },
    {
     "data": {
      "text/html": [
       "<pre style=\"white-space:pre;overflow-x:auto;line-height:normal;font-family:Menlo,'DejaVu Sans Mono',consolas,'Courier New',monospace\"><span style=\"font-weight: bold\"> Non-trainable params: </span><span style=\"color: #00af00; text-decoration-color: #00af00\">64</span> (256.00 B)\n",
       "</pre>\n"
      ],
      "text/plain": [
       "\u001b[1m Non-trainable params: \u001b[0m\u001b[38;5;34m64\u001b[0m (256.00 B)\n"
      ]
     },
     "metadata": {},
     "output_type": "display_data"
    }
   ],
   "source": [
    "model.summary()"
   ]
  },
  {
   "cell_type": "code",
   "execution_count": 26,
   "id": "2f4a4670",
   "metadata": {},
   "outputs": [
    {
     "data": {
      "text/html": [
       "<pre style=\"white-space:pre;overflow-x:auto;line-height:normal;font-family:Menlo,'DejaVu Sans Mono',consolas,'Courier New',monospace\"><span style=\"font-weight: bold\">Model: \"sequential\"</span>\n",
       "</pre>\n"
      ],
      "text/plain": [
       "\u001b[1mModel: \"sequential\"\u001b[0m\n"
      ]
     },
     "metadata": {},
     "output_type": "display_data"
    },
    {
     "data": {
      "text/html": [
       "<pre style=\"white-space:pre;overflow-x:auto;line-height:normal;font-family:Menlo,'DejaVu Sans Mono',consolas,'Courier New',monospace\">┏━━━━━━━━━━━━━━━━━━━━━━━━━━━━━━━━━┳━━━━━━━━━━━━━━━━━━━━━━━━┳━━━━━━━━━━━━━━━┓\n",
       "┃<span style=\"font-weight: bold\"> Layer (type)                    </span>┃<span style=\"font-weight: bold\"> Output Shape           </span>┃<span style=\"font-weight: bold\">       Param # </span>┃\n",
       "┡━━━━━━━━━━━━━━━━━━━━━━━━━━━━━━━━━╇━━━━━━━━━━━━━━━━━━━━━━━━╇━━━━━━━━━━━━━━━┩\n",
       "│ conv2d (<span style=\"color: #0087ff; text-decoration-color: #0087ff\">Conv2D</span>)                 │ (<span style=\"color: #00d7ff; text-decoration-color: #00d7ff\">None</span>, <span style=\"color: #00af00; text-decoration-color: #00af00\">30</span>, <span style=\"color: #00af00; text-decoration-color: #00af00\">30</span>, <span style=\"color: #00af00; text-decoration-color: #00af00\">32</span>)     │           <span style=\"color: #00af00; text-decoration-color: #00af00\">896</span> │\n",
       "├─────────────────────────────────┼────────────────────────┼───────────────┤\n",
       "│ max_pooling2d (<span style=\"color: #0087ff; text-decoration-color: #0087ff\">MaxPooling2D</span>)    │ (<span style=\"color: #00d7ff; text-decoration-color: #00d7ff\">None</span>, <span style=\"color: #00af00; text-decoration-color: #00af00\">15</span>, <span style=\"color: #00af00; text-decoration-color: #00af00\">15</span>, <span style=\"color: #00af00; text-decoration-color: #00af00\">32</span>)     │             <span style=\"color: #00af00; text-decoration-color: #00af00\">0</span> │\n",
       "├─────────────────────────────────┼────────────────────────┼───────────────┤\n",
       "│ conv2d_1 (<span style=\"color: #0087ff; text-decoration-color: #0087ff\">Conv2D</span>)               │ (<span style=\"color: #00d7ff; text-decoration-color: #00d7ff\">None</span>, <span style=\"color: #00af00; text-decoration-color: #00af00\">8</span>, <span style=\"color: #00af00; text-decoration-color: #00af00\">15</span>, <span style=\"color: #00af00; text-decoration-color: #00af00\">32</span>)      │         <span style=\"color: #00af00; text-decoration-color: #00af00\">9,248</span> │\n",
       "├─────────────────────────────────┼────────────────────────┼───────────────┤\n",
       "│ batch_normalization             │ (<span style=\"color: #00d7ff; text-decoration-color: #00d7ff\">None</span>, <span style=\"color: #00af00; text-decoration-color: #00af00\">8</span>, <span style=\"color: #00af00; text-decoration-color: #00af00\">15</span>, <span style=\"color: #00af00; text-decoration-color: #00af00\">32</span>)      │           <span style=\"color: #00af00; text-decoration-color: #00af00\">128</span> │\n",
       "│ (<span style=\"color: #0087ff; text-decoration-color: #0087ff\">BatchNormalization</span>)            │                        │               │\n",
       "├─────────────────────────────────┼────────────────────────┼───────────────┤\n",
       "│ conv2d_2 (<span style=\"color: #0087ff; text-decoration-color: #0087ff\">Conv2D</span>)               │ (<span style=\"color: #00d7ff; text-decoration-color: #00d7ff\">None</span>, <span style=\"color: #00af00; text-decoration-color: #00af00\">6</span>, <span style=\"color: #00af00; text-decoration-color: #00af00\">13</span>, <span style=\"color: #00af00; text-decoration-color: #00af00\">32</span>)      │         <span style=\"color: #00af00; text-decoration-color: #00af00\">9,216</span> │\n",
       "├─────────────────────────────────┼────────────────────────┼───────────────┤\n",
       "│ flatten (<span style=\"color: #0087ff; text-decoration-color: #0087ff\">Flatten</span>)               │ (<span style=\"color: #00d7ff; text-decoration-color: #00d7ff\">None</span>, <span style=\"color: #00af00; text-decoration-color: #00af00\">2496</span>)           │             <span style=\"color: #00af00; text-decoration-color: #00af00\">0</span> │\n",
       "└─────────────────────────────────┴────────────────────────┴───────────────┘\n",
       "</pre>\n"
      ],
      "text/plain": [
       "┏━━━━━━━━━━━━━━━━━━━━━━━━━━━━━━━━━┳━━━━━━━━━━━━━━━━━━━━━━━━┳━━━━━━━━━━━━━━━┓\n",
       "┃\u001b[1m \u001b[0m\u001b[1mLayer (type)                   \u001b[0m\u001b[1m \u001b[0m┃\u001b[1m \u001b[0m\u001b[1mOutput Shape          \u001b[0m\u001b[1m \u001b[0m┃\u001b[1m \u001b[0m\u001b[1m      Param #\u001b[0m\u001b[1m \u001b[0m┃\n",
       "┡━━━━━━━━━━━━━━━━━━━━━━━━━━━━━━━━━╇━━━━━━━━━━━━━━━━━━━━━━━━╇━━━━━━━━━━━━━━━┩\n",
       "│ conv2d (\u001b[38;5;33mConv2D\u001b[0m)                 │ (\u001b[38;5;45mNone\u001b[0m, \u001b[38;5;34m30\u001b[0m, \u001b[38;5;34m30\u001b[0m, \u001b[38;5;34m32\u001b[0m)     │           \u001b[38;5;34m896\u001b[0m │\n",
       "├─────────────────────────────────┼────────────────────────┼───────────────┤\n",
       "│ max_pooling2d (\u001b[38;5;33mMaxPooling2D\u001b[0m)    │ (\u001b[38;5;45mNone\u001b[0m, \u001b[38;5;34m15\u001b[0m, \u001b[38;5;34m15\u001b[0m, \u001b[38;5;34m32\u001b[0m)     │             \u001b[38;5;34m0\u001b[0m │\n",
       "├─────────────────────────────────┼────────────────────────┼───────────────┤\n",
       "│ conv2d_1 (\u001b[38;5;33mConv2D\u001b[0m)               │ (\u001b[38;5;45mNone\u001b[0m, \u001b[38;5;34m8\u001b[0m, \u001b[38;5;34m15\u001b[0m, \u001b[38;5;34m32\u001b[0m)      │         \u001b[38;5;34m9,248\u001b[0m │\n",
       "├─────────────────────────────────┼────────────────────────┼───────────────┤\n",
       "│ batch_normalization             │ (\u001b[38;5;45mNone\u001b[0m, \u001b[38;5;34m8\u001b[0m, \u001b[38;5;34m15\u001b[0m, \u001b[38;5;34m32\u001b[0m)      │           \u001b[38;5;34m128\u001b[0m │\n",
       "│ (\u001b[38;5;33mBatchNormalization\u001b[0m)            │                        │               │\n",
       "├─────────────────────────────────┼────────────────────────┼───────────────┤\n",
       "│ conv2d_2 (\u001b[38;5;33mConv2D\u001b[0m)               │ (\u001b[38;5;45mNone\u001b[0m, \u001b[38;5;34m6\u001b[0m, \u001b[38;5;34m13\u001b[0m, \u001b[38;5;34m32\u001b[0m)      │         \u001b[38;5;34m9,216\u001b[0m │\n",
       "├─────────────────────────────────┼────────────────────────┼───────────────┤\n",
       "│ flatten (\u001b[38;5;33mFlatten\u001b[0m)               │ (\u001b[38;5;45mNone\u001b[0m, \u001b[38;5;34m2496\u001b[0m)           │             \u001b[38;5;34m0\u001b[0m │\n",
       "└─────────────────────────────────┴────────────────────────┴───────────────┘\n"
      ]
     },
     "metadata": {},
     "output_type": "display_data"
    },
    {
     "data": {
      "text/html": [
       "<pre style=\"white-space:pre;overflow-x:auto;line-height:normal;font-family:Menlo,'DejaVu Sans Mono',consolas,'Courier New',monospace\"><span style=\"font-weight: bold\"> Total params: </span><span style=\"color: #00af00; text-decoration-color: #00af00\">19,488</span> (76.12 KB)\n",
       "</pre>\n"
      ],
      "text/plain": [
       "\u001b[1m Total params: \u001b[0m\u001b[38;5;34m19,488\u001b[0m (76.12 KB)\n"
      ]
     },
     "metadata": {},
     "output_type": "display_data"
    },
    {
     "data": {
      "text/html": [
       "<pre style=\"white-space:pre;overflow-x:auto;line-height:normal;font-family:Menlo,'DejaVu Sans Mono',consolas,'Courier New',monospace\"><span style=\"font-weight: bold\"> Trainable params: </span><span style=\"color: #00af00; text-decoration-color: #00af00\">19,424</span> (75.88 KB)\n",
       "</pre>\n"
      ],
      "text/plain": [
       "\u001b[1m Trainable params: \u001b[0m\u001b[38;5;34m19,424\u001b[0m (75.88 KB)\n"
      ]
     },
     "metadata": {},
     "output_type": "display_data"
    },
    {
     "data": {
      "text/html": [
       "<pre style=\"white-space:pre;overflow-x:auto;line-height:normal;font-family:Menlo,'DejaVu Sans Mono',consolas,'Courier New',monospace\"><span style=\"font-weight: bold\"> Non-trainable params: </span><span style=\"color: #00af00; text-decoration-color: #00af00\">64</span> (256.00 B)\n",
       "</pre>\n"
      ],
      "text/plain": [
       "\u001b[1m Non-trainable params: \u001b[0m\u001b[38;5;34m64\u001b[0m (256.00 B)\n"
      ]
     },
     "metadata": {},
     "output_type": "display_data"
    }
   ],
   "source": [
    "model.add(tf.keras.layers.Flatten())\n",
    "model.summary()"
   ]
  },
  {
   "cell_type": "markdown",
   "id": "8299e000",
   "metadata": {},
   "source": [
    "Full Connected Layer\n"
   ]
  },
  {
   "cell_type": "code",
   "execution_count": 28,
   "id": "c5fec7cc",
   "metadata": {},
   "outputs": [
    {
     "data": {
      "text/html": [
       "<pre style=\"white-space:pre;overflow-x:auto;line-height:normal;font-family:Menlo,'DejaVu Sans Mono',consolas,'Courier New',monospace\"><span style=\"font-weight: bold\">Model: \"sequential\"</span>\n",
       "</pre>\n"
      ],
      "text/plain": [
       "\u001b[1mModel: \"sequential\"\u001b[0m\n"
      ]
     },
     "metadata": {},
     "output_type": "display_data"
    },
    {
     "data": {
      "text/html": [
       "<pre style=\"white-space:pre;overflow-x:auto;line-height:normal;font-family:Menlo,'DejaVu Sans Mono',consolas,'Courier New',monospace\">┏━━━━━━━━━━━━━━━━━━━━━━━━━━━━━━━━━┳━━━━━━━━━━━━━━━━━━━━━━━━┳━━━━━━━━━━━━━━━┓\n",
       "┃<span style=\"font-weight: bold\"> Layer (type)                    </span>┃<span style=\"font-weight: bold\"> Output Shape           </span>┃<span style=\"font-weight: bold\">       Param # </span>┃\n",
       "┡━━━━━━━━━━━━━━━━━━━━━━━━━━━━━━━━━╇━━━━━━━━━━━━━━━━━━━━━━━━╇━━━━━━━━━━━━━━━┩\n",
       "│ conv2d (<span style=\"color: #0087ff; text-decoration-color: #0087ff\">Conv2D</span>)                 │ (<span style=\"color: #00d7ff; text-decoration-color: #00d7ff\">None</span>, <span style=\"color: #00af00; text-decoration-color: #00af00\">30</span>, <span style=\"color: #00af00; text-decoration-color: #00af00\">30</span>, <span style=\"color: #00af00; text-decoration-color: #00af00\">32</span>)     │           <span style=\"color: #00af00; text-decoration-color: #00af00\">896</span> │\n",
       "├─────────────────────────────────┼────────────────────────┼───────────────┤\n",
       "│ max_pooling2d (<span style=\"color: #0087ff; text-decoration-color: #0087ff\">MaxPooling2D</span>)    │ (<span style=\"color: #00d7ff; text-decoration-color: #00d7ff\">None</span>, <span style=\"color: #00af00; text-decoration-color: #00af00\">15</span>, <span style=\"color: #00af00; text-decoration-color: #00af00\">15</span>, <span style=\"color: #00af00; text-decoration-color: #00af00\">32</span>)     │             <span style=\"color: #00af00; text-decoration-color: #00af00\">0</span> │\n",
       "├─────────────────────────────────┼────────────────────────┼───────────────┤\n",
       "│ conv2d_1 (<span style=\"color: #0087ff; text-decoration-color: #0087ff\">Conv2D</span>)               │ (<span style=\"color: #00d7ff; text-decoration-color: #00d7ff\">None</span>, <span style=\"color: #00af00; text-decoration-color: #00af00\">8</span>, <span style=\"color: #00af00; text-decoration-color: #00af00\">15</span>, <span style=\"color: #00af00; text-decoration-color: #00af00\">32</span>)      │         <span style=\"color: #00af00; text-decoration-color: #00af00\">9,248</span> │\n",
       "├─────────────────────────────────┼────────────────────────┼───────────────┤\n",
       "│ batch_normalization             │ (<span style=\"color: #00d7ff; text-decoration-color: #00d7ff\">None</span>, <span style=\"color: #00af00; text-decoration-color: #00af00\">8</span>, <span style=\"color: #00af00; text-decoration-color: #00af00\">15</span>, <span style=\"color: #00af00; text-decoration-color: #00af00\">32</span>)      │           <span style=\"color: #00af00; text-decoration-color: #00af00\">128</span> │\n",
       "│ (<span style=\"color: #0087ff; text-decoration-color: #0087ff\">BatchNormalization</span>)            │                        │               │\n",
       "├─────────────────────────────────┼────────────────────────┼───────────────┤\n",
       "│ conv2d_2 (<span style=\"color: #0087ff; text-decoration-color: #0087ff\">Conv2D</span>)               │ (<span style=\"color: #00d7ff; text-decoration-color: #00d7ff\">None</span>, <span style=\"color: #00af00; text-decoration-color: #00af00\">6</span>, <span style=\"color: #00af00; text-decoration-color: #00af00\">13</span>, <span style=\"color: #00af00; text-decoration-color: #00af00\">32</span>)      │         <span style=\"color: #00af00; text-decoration-color: #00af00\">9,216</span> │\n",
       "├─────────────────────────────────┼────────────────────────┼───────────────┤\n",
       "│ flatten (<span style=\"color: #0087ff; text-decoration-color: #0087ff\">Flatten</span>)               │ (<span style=\"color: #00d7ff; text-decoration-color: #00d7ff\">None</span>, <span style=\"color: #00af00; text-decoration-color: #00af00\">2496</span>)           │             <span style=\"color: #00af00; text-decoration-color: #00af00\">0</span> │\n",
       "├─────────────────────────────────┼────────────────────────┼───────────────┤\n",
       "│ dense_1 (<span style=\"color: #0087ff; text-decoration-color: #0087ff\">Dense</span>)                 │ (<span style=\"color: #00d7ff; text-decoration-color: #00d7ff\">None</span>, <span style=\"color: #00af00; text-decoration-color: #00af00\">2496</span>)           │     <span style=\"color: #00af00; text-decoration-color: #00af00\">6,230,016</span> │\n",
       "└─────────────────────────────────┴────────────────────────┴───────────────┘\n",
       "</pre>\n"
      ],
      "text/plain": [
       "┏━━━━━━━━━━━━━━━━━━━━━━━━━━━━━━━━━┳━━━━━━━━━━━━━━━━━━━━━━━━┳━━━━━━━━━━━━━━━┓\n",
       "┃\u001b[1m \u001b[0m\u001b[1mLayer (type)                   \u001b[0m\u001b[1m \u001b[0m┃\u001b[1m \u001b[0m\u001b[1mOutput Shape          \u001b[0m\u001b[1m \u001b[0m┃\u001b[1m \u001b[0m\u001b[1m      Param #\u001b[0m\u001b[1m \u001b[0m┃\n",
       "┡━━━━━━━━━━━━━━━━━━━━━━━━━━━━━━━━━╇━━━━━━━━━━━━━━━━━━━━━━━━╇━━━━━━━━━━━━━━━┩\n",
       "│ conv2d (\u001b[38;5;33mConv2D\u001b[0m)                 │ (\u001b[38;5;45mNone\u001b[0m, \u001b[38;5;34m30\u001b[0m, \u001b[38;5;34m30\u001b[0m, \u001b[38;5;34m32\u001b[0m)     │           \u001b[38;5;34m896\u001b[0m │\n",
       "├─────────────────────────────────┼────────────────────────┼───────────────┤\n",
       "│ max_pooling2d (\u001b[38;5;33mMaxPooling2D\u001b[0m)    │ (\u001b[38;5;45mNone\u001b[0m, \u001b[38;5;34m15\u001b[0m, \u001b[38;5;34m15\u001b[0m, \u001b[38;5;34m32\u001b[0m)     │             \u001b[38;5;34m0\u001b[0m │\n",
       "├─────────────────────────────────┼────────────────────────┼───────────────┤\n",
       "│ conv2d_1 (\u001b[38;5;33mConv2D\u001b[0m)               │ (\u001b[38;5;45mNone\u001b[0m, \u001b[38;5;34m8\u001b[0m, \u001b[38;5;34m15\u001b[0m, \u001b[38;5;34m32\u001b[0m)      │         \u001b[38;5;34m9,248\u001b[0m │\n",
       "├─────────────────────────────────┼────────────────────────┼───────────────┤\n",
       "│ batch_normalization             │ (\u001b[38;5;45mNone\u001b[0m, \u001b[38;5;34m8\u001b[0m, \u001b[38;5;34m15\u001b[0m, \u001b[38;5;34m32\u001b[0m)      │           \u001b[38;5;34m128\u001b[0m │\n",
       "│ (\u001b[38;5;33mBatchNormalization\u001b[0m)            │                        │               │\n",
       "├─────────────────────────────────┼────────────────────────┼───────────────┤\n",
       "│ conv2d_2 (\u001b[38;5;33mConv2D\u001b[0m)               │ (\u001b[38;5;45mNone\u001b[0m, \u001b[38;5;34m6\u001b[0m, \u001b[38;5;34m13\u001b[0m, \u001b[38;5;34m32\u001b[0m)      │         \u001b[38;5;34m9,216\u001b[0m │\n",
       "├─────────────────────────────────┼────────────────────────┼───────────────┤\n",
       "│ flatten (\u001b[38;5;33mFlatten\u001b[0m)               │ (\u001b[38;5;45mNone\u001b[0m, \u001b[38;5;34m2496\u001b[0m)           │             \u001b[38;5;34m0\u001b[0m │\n",
       "├─────────────────────────────────┼────────────────────────┼───────────────┤\n",
       "│ dense_1 (\u001b[38;5;33mDense\u001b[0m)                 │ (\u001b[38;5;45mNone\u001b[0m, \u001b[38;5;34m2496\u001b[0m)           │     \u001b[38;5;34m6,230,016\u001b[0m │\n",
       "└─────────────────────────────────┴────────────────────────┴───────────────┘\n"
      ]
     },
     "metadata": {},
     "output_type": "display_data"
    },
    {
     "data": {
      "text/html": [
       "<pre style=\"white-space:pre;overflow-x:auto;line-height:normal;font-family:Menlo,'DejaVu Sans Mono',consolas,'Courier New',monospace\"><span style=\"font-weight: bold\"> Total params: </span><span style=\"color: #00af00; text-decoration-color: #00af00\">6,249,504</span> (23.84 MB)\n",
       "</pre>\n"
      ],
      "text/plain": [
       "\u001b[1m Total params: \u001b[0m\u001b[38;5;34m6,249,504\u001b[0m (23.84 MB)\n"
      ]
     },
     "metadata": {},
     "output_type": "display_data"
    },
    {
     "data": {
      "text/html": [
       "<pre style=\"white-space:pre;overflow-x:auto;line-height:normal;font-family:Menlo,'DejaVu Sans Mono',consolas,'Courier New',monospace\"><span style=\"font-weight: bold\"> Trainable params: </span><span style=\"color: #00af00; text-decoration-color: #00af00\">6,249,440</span> (23.84 MB)\n",
       "</pre>\n"
      ],
      "text/plain": [
       "\u001b[1m Trainable params: \u001b[0m\u001b[38;5;34m6,249,440\u001b[0m (23.84 MB)\n"
      ]
     },
     "metadata": {},
     "output_type": "display_data"
    },
    {
     "data": {
      "text/html": [
       "<pre style=\"white-space:pre;overflow-x:auto;line-height:normal;font-family:Menlo,'DejaVu Sans Mono',consolas,'Courier New',monospace\"><span style=\"font-weight: bold\"> Non-trainable params: </span><span style=\"color: #00af00; text-decoration-color: #00af00\">64</span> (256.00 B)\n",
       "</pre>\n"
      ],
      "text/plain": [
       "\u001b[1m Non-trainable params: \u001b[0m\u001b[38;5;34m64\u001b[0m (256.00 B)\n"
      ]
     },
     "metadata": {},
     "output_type": "display_data"
    }
   ],
   "source": [
    "model.add(tf.keras.layers.Dense(2496,activation='relu',use_bias=False,kernel_initializer=tf.keras.initializers.random_normal()))\n",
    "model.summary()"
   ]
  },
  {
   "cell_type": "code",
   "execution_count": 29,
   "id": "79c9aaeb",
   "metadata": {},
   "outputs": [
    {
     "data": {
      "text/html": [
       "<pre style=\"white-space:pre;overflow-x:auto;line-height:normal;font-family:Menlo,'DejaVu Sans Mono',consolas,'Courier New',monospace\"><span style=\"font-weight: bold\">Model: \"sequential\"</span>\n",
       "</pre>\n"
      ],
      "text/plain": [
       "\u001b[1mModel: \"sequential\"\u001b[0m\n"
      ]
     },
     "metadata": {},
     "output_type": "display_data"
    },
    {
     "data": {
      "text/html": [
       "<pre style=\"white-space:pre;overflow-x:auto;line-height:normal;font-family:Menlo,'DejaVu Sans Mono',consolas,'Courier New',monospace\">┏━━━━━━━━━━━━━━━━━━━━━━━━━━━━━━━━━┳━━━━━━━━━━━━━━━━━━━━━━━━┳━━━━━━━━━━━━━━━┓\n",
       "┃<span style=\"font-weight: bold\"> Layer (type)                    </span>┃<span style=\"font-weight: bold\"> Output Shape           </span>┃<span style=\"font-weight: bold\">       Param # </span>┃\n",
       "┡━━━━━━━━━━━━━━━━━━━━━━━━━━━━━━━━━╇━━━━━━━━━━━━━━━━━━━━━━━━╇━━━━━━━━━━━━━━━┩\n",
       "│ conv2d (<span style=\"color: #0087ff; text-decoration-color: #0087ff\">Conv2D</span>)                 │ (<span style=\"color: #00d7ff; text-decoration-color: #00d7ff\">None</span>, <span style=\"color: #00af00; text-decoration-color: #00af00\">30</span>, <span style=\"color: #00af00; text-decoration-color: #00af00\">30</span>, <span style=\"color: #00af00; text-decoration-color: #00af00\">32</span>)     │           <span style=\"color: #00af00; text-decoration-color: #00af00\">896</span> │\n",
       "├─────────────────────────────────┼────────────────────────┼───────────────┤\n",
       "│ max_pooling2d (<span style=\"color: #0087ff; text-decoration-color: #0087ff\">MaxPooling2D</span>)    │ (<span style=\"color: #00d7ff; text-decoration-color: #00d7ff\">None</span>, <span style=\"color: #00af00; text-decoration-color: #00af00\">15</span>, <span style=\"color: #00af00; text-decoration-color: #00af00\">15</span>, <span style=\"color: #00af00; text-decoration-color: #00af00\">32</span>)     │             <span style=\"color: #00af00; text-decoration-color: #00af00\">0</span> │\n",
       "├─────────────────────────────────┼────────────────────────┼───────────────┤\n",
       "│ conv2d_1 (<span style=\"color: #0087ff; text-decoration-color: #0087ff\">Conv2D</span>)               │ (<span style=\"color: #00d7ff; text-decoration-color: #00d7ff\">None</span>, <span style=\"color: #00af00; text-decoration-color: #00af00\">8</span>, <span style=\"color: #00af00; text-decoration-color: #00af00\">15</span>, <span style=\"color: #00af00; text-decoration-color: #00af00\">32</span>)      │         <span style=\"color: #00af00; text-decoration-color: #00af00\">9,248</span> │\n",
       "├─────────────────────────────────┼────────────────────────┼───────────────┤\n",
       "│ batch_normalization             │ (<span style=\"color: #00d7ff; text-decoration-color: #00d7ff\">None</span>, <span style=\"color: #00af00; text-decoration-color: #00af00\">8</span>, <span style=\"color: #00af00; text-decoration-color: #00af00\">15</span>, <span style=\"color: #00af00; text-decoration-color: #00af00\">32</span>)      │           <span style=\"color: #00af00; text-decoration-color: #00af00\">128</span> │\n",
       "│ (<span style=\"color: #0087ff; text-decoration-color: #0087ff\">BatchNormalization</span>)            │                        │               │\n",
       "├─────────────────────────────────┼────────────────────────┼───────────────┤\n",
       "│ conv2d_2 (<span style=\"color: #0087ff; text-decoration-color: #0087ff\">Conv2D</span>)               │ (<span style=\"color: #00d7ff; text-decoration-color: #00d7ff\">None</span>, <span style=\"color: #00af00; text-decoration-color: #00af00\">6</span>, <span style=\"color: #00af00; text-decoration-color: #00af00\">13</span>, <span style=\"color: #00af00; text-decoration-color: #00af00\">32</span>)      │         <span style=\"color: #00af00; text-decoration-color: #00af00\">9,216</span> │\n",
       "├─────────────────────────────────┼────────────────────────┼───────────────┤\n",
       "│ flatten (<span style=\"color: #0087ff; text-decoration-color: #0087ff\">Flatten</span>)               │ (<span style=\"color: #00d7ff; text-decoration-color: #00d7ff\">None</span>, <span style=\"color: #00af00; text-decoration-color: #00af00\">2496</span>)           │             <span style=\"color: #00af00; text-decoration-color: #00af00\">0</span> │\n",
       "├─────────────────────────────────┼────────────────────────┼───────────────┤\n",
       "│ dense_1 (<span style=\"color: #0087ff; text-decoration-color: #0087ff\">Dense</span>)                 │ (<span style=\"color: #00d7ff; text-decoration-color: #00d7ff\">None</span>, <span style=\"color: #00af00; text-decoration-color: #00af00\">2496</span>)           │     <span style=\"color: #00af00; text-decoration-color: #00af00\">6,230,016</span> │\n",
       "├─────────────────────────────────┼────────────────────────┼───────────────┤\n",
       "│ dense_2 (<span style=\"color: #0087ff; text-decoration-color: #0087ff\">Dense</span>)                 │ (<span style=\"color: #00d7ff; text-decoration-color: #00d7ff\">None</span>, <span style=\"color: #00af00; text-decoration-color: #00af00\">10</span>)             │        <span style=\"color: #00af00; text-decoration-color: #00af00\">24,970</span> │\n",
       "└─────────────────────────────────┴────────────────────────┴───────────────┘\n",
       "</pre>\n"
      ],
      "text/plain": [
       "┏━━━━━━━━━━━━━━━━━━━━━━━━━━━━━━━━━┳━━━━━━━━━━━━━━━━━━━━━━━━┳━━━━━━━━━━━━━━━┓\n",
       "┃\u001b[1m \u001b[0m\u001b[1mLayer (type)                   \u001b[0m\u001b[1m \u001b[0m┃\u001b[1m \u001b[0m\u001b[1mOutput Shape          \u001b[0m\u001b[1m \u001b[0m┃\u001b[1m \u001b[0m\u001b[1m      Param #\u001b[0m\u001b[1m \u001b[0m┃\n",
       "┡━━━━━━━━━━━━━━━━━━━━━━━━━━━━━━━━━╇━━━━━━━━━━━━━━━━━━━━━━━━╇━━━━━━━━━━━━━━━┩\n",
       "│ conv2d (\u001b[38;5;33mConv2D\u001b[0m)                 │ (\u001b[38;5;45mNone\u001b[0m, \u001b[38;5;34m30\u001b[0m, \u001b[38;5;34m30\u001b[0m, \u001b[38;5;34m32\u001b[0m)     │           \u001b[38;5;34m896\u001b[0m │\n",
       "├─────────────────────────────────┼────────────────────────┼───────────────┤\n",
       "│ max_pooling2d (\u001b[38;5;33mMaxPooling2D\u001b[0m)    │ (\u001b[38;5;45mNone\u001b[0m, \u001b[38;5;34m15\u001b[0m, \u001b[38;5;34m15\u001b[0m, \u001b[38;5;34m32\u001b[0m)     │             \u001b[38;5;34m0\u001b[0m │\n",
       "├─────────────────────────────────┼────────────────────────┼───────────────┤\n",
       "│ conv2d_1 (\u001b[38;5;33mConv2D\u001b[0m)               │ (\u001b[38;5;45mNone\u001b[0m, \u001b[38;5;34m8\u001b[0m, \u001b[38;5;34m15\u001b[0m, \u001b[38;5;34m32\u001b[0m)      │         \u001b[38;5;34m9,248\u001b[0m │\n",
       "├─────────────────────────────────┼────────────────────────┼───────────────┤\n",
       "│ batch_normalization             │ (\u001b[38;5;45mNone\u001b[0m, \u001b[38;5;34m8\u001b[0m, \u001b[38;5;34m15\u001b[0m, \u001b[38;5;34m32\u001b[0m)      │           \u001b[38;5;34m128\u001b[0m │\n",
       "│ (\u001b[38;5;33mBatchNormalization\u001b[0m)            │                        │               │\n",
       "├─────────────────────────────────┼────────────────────────┼───────────────┤\n",
       "│ conv2d_2 (\u001b[38;5;33mConv2D\u001b[0m)               │ (\u001b[38;5;45mNone\u001b[0m, \u001b[38;5;34m6\u001b[0m, \u001b[38;5;34m13\u001b[0m, \u001b[38;5;34m32\u001b[0m)      │         \u001b[38;5;34m9,216\u001b[0m │\n",
       "├─────────────────────────────────┼────────────────────────┼───────────────┤\n",
       "│ flatten (\u001b[38;5;33mFlatten\u001b[0m)               │ (\u001b[38;5;45mNone\u001b[0m, \u001b[38;5;34m2496\u001b[0m)           │             \u001b[38;5;34m0\u001b[0m │\n",
       "├─────────────────────────────────┼────────────────────────┼───────────────┤\n",
       "│ dense_1 (\u001b[38;5;33mDense\u001b[0m)                 │ (\u001b[38;5;45mNone\u001b[0m, \u001b[38;5;34m2496\u001b[0m)           │     \u001b[38;5;34m6,230,016\u001b[0m │\n",
       "├─────────────────────────────────┼────────────────────────┼───────────────┤\n",
       "│ dense_2 (\u001b[38;5;33mDense\u001b[0m)                 │ (\u001b[38;5;45mNone\u001b[0m, \u001b[38;5;34m10\u001b[0m)             │        \u001b[38;5;34m24,970\u001b[0m │\n",
       "└─────────────────────────────────┴────────────────────────┴───────────────┘\n"
      ]
     },
     "metadata": {},
     "output_type": "display_data"
    },
    {
     "data": {
      "text/html": [
       "<pre style=\"white-space:pre;overflow-x:auto;line-height:normal;font-family:Menlo,'DejaVu Sans Mono',consolas,'Courier New',monospace\"><span style=\"font-weight: bold\"> Total params: </span><span style=\"color: #00af00; text-decoration-color: #00af00\">6,274,474</span> (23.94 MB)\n",
       "</pre>\n"
      ],
      "text/plain": [
       "\u001b[1m Total params: \u001b[0m\u001b[38;5;34m6,274,474\u001b[0m (23.94 MB)\n"
      ]
     },
     "metadata": {},
     "output_type": "display_data"
    },
    {
     "data": {
      "text/html": [
       "<pre style=\"white-space:pre;overflow-x:auto;line-height:normal;font-family:Menlo,'DejaVu Sans Mono',consolas,'Courier New',monospace\"><span style=\"font-weight: bold\"> Trainable params: </span><span style=\"color: #00af00; text-decoration-color: #00af00\">6,274,410</span> (23.93 MB)\n",
       "</pre>\n"
      ],
      "text/plain": [
       "\u001b[1m Trainable params: \u001b[0m\u001b[38;5;34m6,274,410\u001b[0m (23.93 MB)\n"
      ]
     },
     "metadata": {},
     "output_type": "display_data"
    },
    {
     "data": {
      "text/html": [
       "<pre style=\"white-space:pre;overflow-x:auto;line-height:normal;font-family:Menlo,'DejaVu Sans Mono',consolas,'Courier New',monospace\"><span style=\"font-weight: bold\"> Non-trainable params: </span><span style=\"color: #00af00; text-decoration-color: #00af00\">64</span> (256.00 B)\n",
       "</pre>\n"
      ],
      "text/plain": [
       "\u001b[1m Non-trainable params: \u001b[0m\u001b[38;5;34m64\u001b[0m (256.00 B)\n"
      ]
     },
     "metadata": {},
     "output_type": "display_data"
    }
   ],
   "source": [
    "model.add(tf.keras.layers.Dense(len(set(list(y_labels))),activation='softmax'))\n",
    "model.summary()"
   ]
  },
  {
   "cell_type": "code",
   "execution_count": 46,
   "id": "5d77a5e2",
   "metadata": {},
   "outputs": [],
   "source": [
    "model.compile(optimizer='rmsprop',loss=tf.keras.losses.categorical_crossentropy,metrics=['accuracy'])"
   ]
  },
  {
   "cell_type": "code",
   "execution_count": 47,
   "id": "dcf3838c",
   "metadata": {},
   "outputs": [],
   "source": [
    "early_stopping=tf.keras.callbacks.EarlyStopping(monitor='val_loss',patience=5)\n",
    "checkpointer=tf.keras.callbacks.ModelCheckpoint('best_cnn_model.h5',monitor='val_loss',verbose=1,save_best_only=True)\n",
    "\n",
    "callers=[early_stopping,checkpointer]\n",
    "\n"
   ]
  },
  {
   "cell_type": "code",
   "execution_count": 48,
   "id": "dbc57b4f",
   "metadata": {},
   "outputs": [],
   "source": [
    "x_train = train_images.astype('float32')\n",
    "x_test = test_images.astype('float32')"
   ]
  },
  {
   "cell_type": "code",
   "execution_count": 50,
   "id": "b6bddd2b",
   "metadata": {},
   "outputs": [],
   "source": [
    "x_train = train_images/255\n",
    "x_test = test_images/255"
   ]
  },
  {
   "cell_type": "code",
   "execution_count": 44,
   "id": "bf27f290",
   "metadata": {},
   "outputs": [],
   "source": [
    "y_train=tf.keras.utils.to_categorical(train_labels,len(set(list(y_labels))))\n",
    "y_test=tf.keras.utils.to_categorical(test_labels,len(set(list(y_labels))))"
   ]
  },
  {
   "cell_type": "code",
   "execution_count": 51,
   "id": "673daac0",
   "metadata": {},
   "outputs": [
    {
     "name": "stdout",
     "output_type": "stream",
     "text": [
      "Epoch 1/10\n",
      "\u001b[1m1250/1250\u001b[0m \u001b[32m━━━━━━━━━━━━━━━━━━━━\u001b[0m\u001b[37m\u001b[0m \u001b[1m0s\u001b[0m 66ms/step - accuracy: 0.4165 - loss: 1.7290\n",
      "Epoch 1: val_loss improved from None to 1.43293, saving model to best_cnn_model.h5\n"
     ]
    },
    {
     "name": "stderr",
     "output_type": "stream",
     "text": [
      "WARNING:absl:You are saving your model as an HDF5 file via `model.save()` or `keras.saving.save_model(model)`. This file format is considered legacy. We recommend using instead the native Keras format, e.g. `model.save('my_model.keras')` or `keras.saving.save_model(model, 'my_model.keras')`. \n"
     ]
    },
    {
     "name": "stdout",
     "output_type": "stream",
     "text": [
      "\u001b[1m1250/1250\u001b[0m \u001b[32m━━━━━━━━━━━━━━━━━━━━\u001b[0m\u001b[37m\u001b[0m \u001b[1m87s\u001b[0m 69ms/step - accuracy: 0.4985 - loss: 1.4260 - val_accuracy: 0.5246 - val_loss: 1.4329\n",
      "Epoch 2/10\n",
      "\u001b[1m1250/1250\u001b[0m \u001b[32m━━━━━━━━━━━━━━━━━━━━\u001b[0m\u001b[37m\u001b[0m \u001b[1m0s\u001b[0m 66ms/step - accuracy: 0.6547 - loss: 0.9977\n",
      "Epoch 2: val_loss improved from 1.43293 to 1.26602, saving model to best_cnn_model.h5\n"
     ]
    },
    {
     "name": "stderr",
     "output_type": "stream",
     "text": [
      "WARNING:absl:You are saving your model as an HDF5 file via `model.save()` or `keras.saving.save_model(model)`. This file format is considered legacy. We recommend using instead the native Keras format, e.g. `model.save('my_model.keras')` or `keras.saving.save_model(model, 'my_model.keras')`. \n"
     ]
    },
    {
     "name": "stdout",
     "output_type": "stream",
     "text": [
      "\u001b[1m1250/1250\u001b[0m \u001b[32m━━━━━━━━━━━━━━━━━━━━\u001b[0m\u001b[37m\u001b[0m \u001b[1m86s\u001b[0m 69ms/step - accuracy: 0.6590 - loss: 0.9850 - val_accuracy: 0.5934 - val_loss: 1.2660\n",
      "Epoch 3/10\n",
      "\u001b[1m1250/1250\u001b[0m \u001b[32m━━━━━━━━━━━━━━━━━━━━\u001b[0m\u001b[37m\u001b[0m \u001b[1m0s\u001b[0m 68ms/step - accuracy: 0.7697 - loss: 0.6677\n",
      "Epoch 3: val_loss improved from 1.26602 to 1.04968, saving model to best_cnn_model.h5\n"
     ]
    },
    {
     "name": "stderr",
     "output_type": "stream",
     "text": [
      "WARNING:absl:You are saving your model as an HDF5 file via `model.save()` or `keras.saving.save_model(model)`. This file format is considered legacy. We recommend using instead the native Keras format, e.g. `model.save('my_model.keras')` or `keras.saving.save_model(model, 'my_model.keras')`. \n"
     ]
    },
    {
     "name": "stdout",
     "output_type": "stream",
     "text": [
      "\u001b[1m1250/1250\u001b[0m \u001b[32m━━━━━━━━━━━━━━━━━━━━\u001b[0m\u001b[37m\u001b[0m \u001b[1m89s\u001b[0m 71ms/step - accuracy: 0.7669 - loss: 0.6827 - val_accuracy: 0.6662 - val_loss: 1.0497\n",
      "Epoch 4/10\n",
      "\u001b[1m1250/1250\u001b[0m \u001b[32m━━━━━━━━━━━━━━━━━━━━\u001b[0m\u001b[37m\u001b[0m \u001b[1m0s\u001b[0m 63ms/step - accuracy: 0.8709 - loss: 0.3798\n",
      "Epoch 4: val_loss did not improve from 1.04968\n",
      "\u001b[1m1250/1250\u001b[0m \u001b[32m━━━━━━━━━━━━━━━━━━━━\u001b[0m\u001b[37m\u001b[0m \u001b[1m136s\u001b[0m 66ms/step - accuracy: 0.8632 - loss: 0.4038 - val_accuracy: 0.6380 - val_loss: 1.4004\n",
      "Epoch 5/10\n",
      "\u001b[1m1250/1250\u001b[0m \u001b[32m━━━━━━━━━━━━━━━━━━━━\u001b[0m\u001b[37m\u001b[0m \u001b[1m0s\u001b[0m 58ms/step - accuracy: 0.9359 - loss: 0.1926\n",
      "Epoch 5: val_loss did not improve from 1.04968\n",
      "\u001b[1m1250/1250\u001b[0m \u001b[32m━━━━━━━━━━━━━━━━━━━━\u001b[0m\u001b[37m\u001b[0m \u001b[1m77s\u001b[0m 62ms/step - accuracy: 0.9302 - loss: 0.2082 - val_accuracy: 0.6303 - val_loss: 1.7810\n",
      "Epoch 6/10\n",
      "\u001b[1m1250/1250\u001b[0m \u001b[32m━━━━━━━━━━━━━━━━━━━━\u001b[0m\u001b[37m\u001b[0m \u001b[1m0s\u001b[0m 64ms/step - accuracy: 0.9646 - loss: 0.1110\n",
      "Epoch 6: val_loss did not improve from 1.04968\n",
      "\u001b[1m1250/1250\u001b[0m \u001b[32m━━━━━━━━━━━━━━━━━━━━\u001b[0m\u001b[37m\u001b[0m \u001b[1m83s\u001b[0m 67ms/step - accuracy: 0.9594 - loss: 0.1257 - val_accuracy: 0.6236 - val_loss: 2.2205\n",
      "Epoch 7/10\n",
      "\u001b[1m1250/1250\u001b[0m \u001b[32m━━━━━━━━━━━━━━━━━━━━\u001b[0m\u001b[37m\u001b[0m \u001b[1m0s\u001b[0m 68ms/step - accuracy: 0.9741 - loss: 0.0793\n",
      "Epoch 7: val_loss did not improve from 1.04968\n",
      "\u001b[1m1250/1250\u001b[0m \u001b[32m━━━━━━━━━━━━━━━━━━━━\u001b[0m\u001b[37m\u001b[0m \u001b[1m88s\u001b[0m 70ms/step - accuracy: 0.9706 - loss: 0.0925 - val_accuracy: 0.6468 - val_loss: 2.2179\n",
      "Epoch 8/10\n",
      "\u001b[1m1250/1250\u001b[0m \u001b[32m━━━━━━━━━━━━━━━━━━━━\u001b[0m\u001b[37m\u001b[0m \u001b[1m0s\u001b[0m 57ms/step - accuracy: 0.9800 - loss: 0.0619\n",
      "Epoch 8: val_loss did not improve from 1.04968\n",
      "\u001b[1m1250/1250\u001b[0m \u001b[32m━━━━━━━━━━━━━━━━━━━━\u001b[0m\u001b[37m\u001b[0m \u001b[1m75s\u001b[0m 60ms/step - accuracy: 0.9774 - loss: 0.0708 - val_accuracy: 0.6554 - val_loss: 2.3974\n"
     ]
    },
    {
     "data": {
      "text/plain": [
       "<keras.src.callbacks.history.History at 0x7d5474489390>"
      ]
     },
     "execution_count": 51,
     "metadata": {},
     "output_type": "execute_result"
    }
   ],
   "source": [
    "model.fit(x_train,y_train,batch_size=32,epochs=10,verbose=1,validation_split=0.2,callbacks=callers)\n"
   ]
  },
  {
   "cell_type": "code",
   "execution_count": 53,
   "id": "336f2cdb",
   "metadata": {},
   "outputs": [
    {
     "name": "stderr",
     "output_type": "stream",
     "text": [
      "WARNING:absl:Compiled the loaded model, but the compiled metrics have yet to be built. `model.compile_metrics` will be empty until you train or evaluate the model.\n"
     ]
    }
   ],
   "source": [
    "load_model=tf.keras.models.load_model('best_cnn_model.h5')"
   ]
  },
  {
   "cell_type": "code",
   "execution_count": 57,
   "id": "cf25d422",
   "metadata": {},
   "outputs": [
    {
     "name": "stderr",
     "output_type": "stream",
     "text": [
      "WARNING:absl:Compiled the loaded model, but the compiled metrics have yet to be built. `model.compile_metrics` will be empty until you train or evaluate the model.\n"
     ]
    },
    {
     "name": "stdout",
     "output_type": "stream",
     "text": [
      "Model loaded successfully!\n"
     ]
    }
   ],
   "source": [
    "import tensorflow as tf\n",
    "\n",
    "load_model = tf.keras.models.load_model(\"best_cnn_model.h5\")\n",
    "print(\"Model loaded successfully!\")"
   ]
  },
  {
   "cell_type": "code",
   "execution_count": 58,
   "id": "bc203db3",
   "metadata": {},
   "outputs": [
    {
     "name": "stdout",
     "output_type": "stream",
     "text": [
      "\u001b[1m313/313\u001b[0m \u001b[32m━━━━━━━━━━━━━━━━━━━━\u001b[0m\u001b[37m\u001b[0m \u001b[1m4s\u001b[0m 12ms/step\n"
     ]
    }
   ],
   "source": [
    "predictions = load_model.predict(x_test,batch_size=32)"
   ]
  },
  {
   "cell_type": "code",
   "execution_count": 59,
   "id": "41fc7534",
   "metadata": {},
   "outputs": [
    {
     "data": {
      "text/plain": [
       "array([[7.8086967e-05, 5.5077887e-04, 1.2411372e-04, ..., 4.5180856e-05,\n",
       "        1.2945903e-03, 8.1628235e-04],\n",
       "       [1.4031808e-02, 6.6591933e-02, 2.5273465e-08, ..., 5.1496690e-10,\n",
       "        9.1904449e-01, 3.3178605e-04],\n",
       "       [5.6987923e-01, 5.0053500e-02, 5.0782487e-03, ..., 1.1992934e-02,\n",
       "        1.6247149e-01, 1.8615754e-01],\n",
       "       ...,\n",
       "       [9.1920623e-07, 4.2142904e-08, 8.3610567e-04, ..., 2.1030751e-04,\n",
       "        1.3192990e-06, 7.4094100e-07],\n",
       "       [1.0792140e-04, 9.8886269e-01, 5.0099643e-05, ..., 5.6207455e-06,\n",
       "        2.6262678e-06, 1.0324296e-02],\n",
       "       [1.1309386e-09, 1.0414929e-07, 6.0283861e-07, ..., 9.9742246e-01,\n",
       "        2.2068158e-09, 2.1058305e-07]], shape=(10000, 10), dtype=float32)"
      ]
     },
     "execution_count": 59,
     "metadata": {},
     "output_type": "execute_result"
    }
   ],
   "source": [
    "predictions"
   ]
  },
  {
   "cell_type": "code",
   "execution_count": 60,
   "id": "d8dbac1b",
   "metadata": {},
   "outputs": [
    {
     "data": {
      "text/plain": [
       "array([7.8086967e-05, 5.5077887e-04, 1.2411372e-04, 9.5118654e-01,\n",
       "       5.3710169e-03, 3.7091166e-02, 3.4421778e-03, 4.5180856e-05,\n",
       "       1.2945903e-03, 8.1628235e-04], dtype=float32)"
      ]
     },
     "execution_count": 60,
     "metadata": {},
     "output_type": "execute_result"
    }
   ],
   "source": [
    "predictions[0]"
   ]
  },
  {
   "cell_type": "code",
   "execution_count": 61,
   "id": "489695d5",
   "metadata": {},
   "outputs": [
    {
     "data": {
      "text/plain": [
       "['Uçak',\n",
       " 'Araba',\n",
       " 'Kuş',\n",
       " 'Kedi',\n",
       " 'Geyik',\n",
       " 'Köpek',\n",
       " 'Kurbağa',\n",
       " 'At',\n",
       " 'Gemi',\n",
       " 'Kamyon']"
      ]
     },
     "execution_count": 61,
     "metadata": {},
     "output_type": "execute_result"
    }
   ],
   "source": [
    "y_labels"
   ]
  },
  {
   "cell_type": "code",
   "execution_count": 64,
   "id": "0264e599",
   "metadata": {},
   "outputs": [
    {
     "data": {
      "text/plain": [
       "array([3, 8, 0, ..., 5, 1, 7], shape=(10000,))"
      ]
     },
     "execution_count": 64,
     "metadata": {},
     "output_type": "execute_result"
    }
   ],
   "source": [
    "import numpy as np\n",
    "\n",
    "predicted_labels_index=np.argmax(predictions,axis=1)\n",
    "predicted_labels_index"
   ]
  },
  {
   "cell_type": "code",
   "execution_count": 68,
   "id": "3cf007c5",
   "metadata": {},
   "outputs": [],
   "source": [
    "predicted_classes = [y_labels[y] for y in (predicted_labels_index)]"
   ]
  },
  {
   "cell_type": "code",
   "execution_count": 69,
   "id": "85eb0d45",
   "metadata": {},
   "outputs": [
    {
     "data": {
      "text/plain": [
       "['Kedi',\n",
       " 'Gemi',\n",
       " 'Uçak',\n",
       " 'Uçak',\n",
       " 'Geyik',\n",
       " 'Kurbağa',\n",
       " 'Araba',\n",
       " 'Kurbağa',\n",
       " 'Kedi',\n",
       " 'Araba',\n",
       " 'Uçak',\n",
       " 'Kamyon',\n",
       " 'Köpek',\n",
       " 'At',\n",
       " 'Kamyon',\n",
       " 'Gemi',\n",
       " 'Köpek',\n",
       " 'Kedi',\n",
       " 'Gemi',\n",
       " 'Kurbağa',\n",
       " 'Kedi',\n",
       " 'Uçak',\n",
       " 'Kuş',\n",
       " 'Kamyon',\n",
       " 'Geyik',\n",
       " 'Geyik',\n",
       " 'Geyik',\n",
       " 'Uçak',\n",
       " 'Kamyon',\n",
       " 'Kurbağa',\n",
       " 'Kedi',\n",
       " 'Geyik',\n",
       " 'Kuş',\n",
       " 'Kedi',\n",
       " 'Kamyon',\n",
       " 'Kedi',\n",
       " 'Geyik',\n",
       " 'Kamyon',\n",
       " 'Kamyon',\n",
       " 'Köpek',\n",
       " 'Uçak',\n",
       " 'Kurbağa',\n",
       " 'Kedi',\n",
       " 'Kurbağa',\n",
       " 'Uçak',\n",
       " 'Kamyon',\n",
       " 'Köpek',\n",
       " 'Kamyon',\n",
       " 'At',\n",
       " 'Kuş',\n",
       " 'Kamyon',\n",
       " 'Gemi',\n",
       " 'At',\n",
       " 'Kedi',\n",
       " 'Gemi',\n",
       " 'Gemi',\n",
       " 'Kedi',\n",
       " 'Köpek',\n",
       " 'Köpek',\n",
       " 'Geyik',\n",
       " 'At',\n",
       " 'Köpek',\n",
       " 'Kurbağa',\n",
       " 'Kedi',\n",
       " 'Kurbağa',\n",
       " 'Kuş',\n",
       " 'Gemi',\n",
       " 'Kuş',\n",
       " 'Kedi',\n",
       " 'Geyik',\n",
       " 'Gemi',\n",
       " 'Kedi',\n",
       " 'Gemi',\n",
       " 'Gemi',\n",
       " 'Uçak',\n",
       " 'Kuş',\n",
       " 'Uçak',\n",
       " 'Kedi',\n",
       " 'Kedi',\n",
       " 'Gemi',\n",
       " 'Gemi',\n",
       " 'Araba',\n",
       " 'Araba',\n",
       " 'At',\n",
       " 'Kedi',\n",
       " 'At',\n",
       " 'Kuş',\n",
       " 'Gemi',\n",
       " 'Gemi',\n",
       " 'Kamyon',\n",
       " 'Uçak',\n",
       " 'Kedi',\n",
       " 'Gemi',\n",
       " 'Kurbağa',\n",
       " 'Geyik',\n",
       " 'Kurbağa',\n",
       " 'Kurbağa',\n",
       " 'Uçak',\n",
       " 'Uçak',\n",
       " 'Kedi',\n",
       " 'Geyik',\n",
       " 'At',\n",
       " 'Kurbağa',\n",
       " 'Kedi',\n",
       " 'Araba',\n",
       " 'Araba',\n",
       " 'Kedi',\n",
       " 'Kurbağa',\n",
       " 'Kedi',\n",
       " 'Kedi',\n",
       " 'At',\n",
       " 'Uçak',\n",
       " 'Kuş',\n",
       " 'Kuş',\n",
       " 'Kamyon',\n",
       " 'Kedi',\n",
       " 'Uçak',\n",
       " 'Geyik',\n",
       " 'Kuş',\n",
       " 'Kedi',\n",
       " 'Gemi',\n",
       " 'Kedi',\n",
       " 'Araba',\n",
       " 'Kuş',\n",
       " 'Gemi',\n",
       " 'Uçak',\n",
       " 'Uçak',\n",
       " 'Kedi',\n",
       " 'Kedi',\n",
       " 'Kuş',\n",
       " 'Geyik',\n",
       " 'Araba',\n",
       " 'Gemi',\n",
       " 'Kamyon',\n",
       " 'Araba',\n",
       " 'Kedi',\n",
       " 'Kamyon',\n",
       " 'At',\n",
       " 'Kurbağa',\n",
       " 'Gemi',\n",
       " 'Kedi',\n",
       " 'Köpek',\n",
       " 'Kedi',\n",
       " 'Kedi',\n",
       " 'Gemi',\n",
       " 'At',\n",
       " 'Kurbağa',\n",
       " 'Köpek',\n",
       " 'Geyik',\n",
       " 'Kamyon',\n",
       " 'Uçak',\n",
       " 'Araba',\n",
       " 'Kurbağa',\n",
       " 'Uçak',\n",
       " 'Uçak',\n",
       " 'Kedi',\n",
       " 'Kedi',\n",
       " 'Kamyon',\n",
       " 'Kedi',\n",
       " 'Geyik',\n",
       " 'Uçak',\n",
       " 'Araba',\n",
       " 'Kurbağa',\n",
       " 'Kurbağa',\n",
       " 'Gemi',\n",
       " 'Geyik',\n",
       " 'Gemi',\n",
       " 'Geyik',\n",
       " 'Kurbağa',\n",
       " 'Uçak',\n",
       " 'Kamyon',\n",
       " 'Kamyon',\n",
       " 'Uçak',\n",
       " 'Gemi',\n",
       " 'Kamyon',\n",
       " 'Kamyon',\n",
       " 'Gemi',\n",
       " 'At',\n",
       " 'Köpek',\n",
       " 'Kamyon',\n",
       " 'Uçak',\n",
       " 'At',\n",
       " 'Kurbağa',\n",
       " 'Kedi',\n",
       " 'Kurbağa',\n",
       " 'Gemi',\n",
       " 'Kurbağa',\n",
       " 'Kuş',\n",
       " 'Kedi',\n",
       " 'Uçak',\n",
       " 'Köpek',\n",
       " 'Kedi',\n",
       " 'Uçak',\n",
       " 'Kamyon',\n",
       " 'Kurbağa',\n",
       " 'Köpek',\n",
       " 'Gemi',\n",
       " 'Gemi',\n",
       " 'Köpek',\n",
       " 'Kedi',\n",
       " 'Köpek',\n",
       " 'Araba',\n",
       " 'Gemi',\n",
       " 'At',\n",
       " 'Araba',\n",
       " 'Kedi',\n",
       " 'Uçak',\n",
       " 'Köpek',\n",
       " 'At',\n",
       " 'Uçak',\n",
       " 'Köpek',\n",
       " 'Araba',\n",
       " 'Köpek',\n",
       " 'At',\n",
       " 'Gemi',\n",
       " 'Geyik',\n",
       " 'At',\n",
       " 'Kamyon',\n",
       " 'Uçak',\n",
       " 'Geyik',\n",
       " 'At',\n",
       " 'Kedi',\n",
       " 'Kamyon',\n",
       " 'Kedi',\n",
       " 'Geyik',\n",
       " 'Kamyon',\n",
       " 'Kedi',\n",
       " 'Kuş',\n",
       " 'Kedi',\n",
       " 'Kedi',\n",
       " 'Kedi',\n",
       " 'Araba',\n",
       " 'Kedi',\n",
       " 'Araba',\n",
       " 'Gemi',\n",
       " 'Uçak',\n",
       " 'Geyik',\n",
       " 'Kamyon',\n",
       " 'Kedi',\n",
       " 'Kedi',\n",
       " 'Araba',\n",
       " 'Kamyon',\n",
       " 'Araba',\n",
       " 'Kedi',\n",
       " 'Uçak',\n",
       " 'Kedi',\n",
       " 'Araba',\n",
       " 'Gemi',\n",
       " 'Köpek',\n",
       " 'Uçak',\n",
       " 'Köpek',\n",
       " 'Köpek',\n",
       " 'Kamyon',\n",
       " 'Kamyon',\n",
       " 'Kuş',\n",
       " 'Uçak',\n",
       " 'Kedi',\n",
       " 'Uçak',\n",
       " 'Uçak',\n",
       " 'Araba',\n",
       " 'Kedi',\n",
       " 'Araba',\n",
       " 'Kedi',\n",
       " 'Kedi',\n",
       " 'Uçak',\n",
       " 'Gemi',\n",
       " 'Kuş',\n",
       " 'Geyik',\n",
       " 'At',\n",
       " 'Uçak',\n",
       " 'Kuş',\n",
       " 'Kedi',\n",
       " 'Kurbağa',\n",
       " 'Köpek',\n",
       " 'Gemi',\n",
       " 'Kedi',\n",
       " 'Uçak',\n",
       " 'Araba',\n",
       " 'Kedi',\n",
       " 'Kedi',\n",
       " 'Kamyon',\n",
       " 'Uçak',\n",
       " 'Kedi',\n",
       " 'Araba',\n",
       " 'Araba',\n",
       " 'Kamyon',\n",
       " 'Araba',\n",
       " 'Uçak',\n",
       " 'At',\n",
       " 'Kamyon',\n",
       " 'Araba',\n",
       " 'Kuş',\n",
       " 'Kurbağa',\n",
       " 'Araba',\n",
       " 'Kedi',\n",
       " 'Kuş',\n",
       " 'Kurbağa',\n",
       " 'Uçak',\n",
       " 'Uçak',\n",
       " 'Kurbağa',\n",
       " 'Kurbağa',\n",
       " 'Kurbağa',\n",
       " 'Kedi',\n",
       " 'Kedi',\n",
       " 'Kuş',\n",
       " 'Araba',\n",
       " 'Kedi',\n",
       " 'Kuş',\n",
       " 'Araba',\n",
       " 'Geyik',\n",
       " 'Uçak',\n",
       " 'Kurbağa',\n",
       " 'Uçak',\n",
       " 'Uçak',\n",
       " 'Kedi',\n",
       " 'Uçak',\n",
       " 'At',\n",
       " 'At',\n",
       " 'Köpek',\n",
       " 'Köpek',\n",
       " 'Kedi',\n",
       " 'Kedi',\n",
       " 'Kuş',\n",
       " 'Köpek',\n",
       " 'Geyik',\n",
       " 'Araba',\n",
       " 'At',\n",
       " 'Köpek',\n",
       " 'Geyik',\n",
       " 'Kurbağa',\n",
       " 'Araba',\n",
       " 'Kamyon',\n",
       " 'Geyik',\n",
       " 'Kurbağa',\n",
       " 'Kurbağa',\n",
       " 'Araba',\n",
       " 'Kedi',\n",
       " 'Uçak',\n",
       " 'Uçak',\n",
       " 'At',\n",
       " 'Geyik',\n",
       " 'Kurbağa',\n",
       " 'Uçak',\n",
       " 'Araba',\n",
       " 'Uçak',\n",
       " 'Köpek',\n",
       " 'At',\n",
       " 'Kurbağa',\n",
       " 'Gemi',\n",
       " 'Kamyon',\n",
       " 'Kamyon',\n",
       " 'Araba',\n",
       " 'Gemi',\n",
       " 'Kuş',\n",
       " 'Kuş',\n",
       " 'Geyik',\n",
       " 'Geyik',\n",
       " 'Kuş',\n",
       " 'Araba',\n",
       " 'Uçak',\n",
       " 'Kamyon',\n",
       " 'Köpek',\n",
       " 'Gemi',\n",
       " 'Uçak',\n",
       " 'Kamyon',\n",
       " 'Uçak',\n",
       " 'Araba',\n",
       " 'Kedi',\n",
       " 'Uçak',\n",
       " 'Araba',\n",
       " 'Kedi',\n",
       " 'At',\n",
       " 'Kamyon',\n",
       " 'Kedi',\n",
       " 'Kuş',\n",
       " 'At',\n",
       " 'Kamyon',\n",
       " 'At',\n",
       " 'Gemi',\n",
       " 'Kurbağa',\n",
       " 'Kurbağa',\n",
       " 'Kamyon',\n",
       " 'Uçak',\n",
       " 'Uçak',\n",
       " 'Köpek',\n",
       " 'Uçak',\n",
       " 'At',\n",
       " 'Geyik',\n",
       " 'Köpek',\n",
       " 'Kedi',\n",
       " 'Araba',\n",
       " 'Kuş',\n",
       " 'Kurbağa',\n",
       " 'Kuş',\n",
       " 'Kamyon',\n",
       " 'Kurbağa',\n",
       " 'Kuş',\n",
       " 'Kedi',\n",
       " 'Uçak',\n",
       " 'Kamyon',\n",
       " 'Kurbağa',\n",
       " 'Araba',\n",
       " 'At',\n",
       " 'Gemi',\n",
       " 'Gemi',\n",
       " 'Geyik',\n",
       " 'Uçak',\n",
       " 'Araba',\n",
       " 'Gemi',\n",
       " 'Kuş',\n",
       " 'At',\n",
       " 'Gemi',\n",
       " 'Kedi',\n",
       " 'Kurbağa',\n",
       " 'Araba',\n",
       " 'Kamyon',\n",
       " 'Kedi',\n",
       " 'Kedi',\n",
       " 'Kuş',\n",
       " 'At',\n",
       " 'Geyik',\n",
       " 'Geyik',\n",
       " 'Uçak',\n",
       " 'Kedi',\n",
       " 'Kuş',\n",
       " 'Kamyon',\n",
       " 'Kedi',\n",
       " 'Geyik',\n",
       " 'Kurbağa',\n",
       " 'Kurbağa',\n",
       " 'Kedi',\n",
       " 'Kedi',\n",
       " 'Köpek',\n",
       " 'Kedi',\n",
       " 'Kamyon',\n",
       " 'At',\n",
       " 'Kedi',\n",
       " 'Kuş',\n",
       " 'Kedi',\n",
       " 'Araba',\n",
       " 'Araba',\n",
       " 'Kedi',\n",
       " 'Kamyon',\n",
       " 'Kamyon',\n",
       " 'Kuş',\n",
       " 'Kurbağa',\n",
       " 'Kedi',\n",
       " 'Uçak',\n",
       " 'Kedi',\n",
       " 'Uçak',\n",
       " 'Araba',\n",
       " 'Kamyon',\n",
       " 'At',\n",
       " 'Kedi',\n",
       " 'Uçak',\n",
       " 'Kedi',\n",
       " 'Geyik',\n",
       " 'Geyik',\n",
       " 'Geyik',\n",
       " 'Kamyon',\n",
       " 'Kedi',\n",
       " 'Kurbağa',\n",
       " 'Araba',\n",
       " 'Köpek',\n",
       " 'Kedi',\n",
       " 'Geyik',\n",
       " 'Geyik',\n",
       " 'Kedi',\n",
       " 'At',\n",
       " 'Gemi',\n",
       " 'Kedi',\n",
       " 'At',\n",
       " 'Gemi',\n",
       " 'Uçak',\n",
       " 'Kedi',\n",
       " 'At',\n",
       " 'Kurbağa',\n",
       " 'Uçak',\n",
       " 'Kedi',\n",
       " 'Kedi',\n",
       " 'Gemi',\n",
       " 'Kurbağa',\n",
       " 'Gemi',\n",
       " 'Kedi',\n",
       " 'At',\n",
       " 'Kamyon',\n",
       " 'Kamyon',\n",
       " 'Kamyon',\n",
       " 'Köpek',\n",
       " 'Uçak',\n",
       " 'Araba',\n",
       " 'At',\n",
       " 'Uçak',\n",
       " 'Araba',\n",
       " 'Araba',\n",
       " 'Gemi',\n",
       " 'Uçak',\n",
       " 'Kuş',\n",
       " 'Kuş',\n",
       " 'Uçak',\n",
       " 'Kurbağa',\n",
       " 'Kurbağa',\n",
       " 'Köpek',\n",
       " 'Geyik',\n",
       " 'Kamyon',\n",
       " 'Geyik',\n",
       " 'At',\n",
       " 'Kamyon',\n",
       " 'Kamyon',\n",
       " 'Geyik',\n",
       " 'Köpek',\n",
       " 'Kurbağa',\n",
       " 'Kurbağa',\n",
       " 'Araba',\n",
       " 'Köpek',\n",
       " 'Kedi',\n",
       " 'Gemi',\n",
       " 'Kamyon',\n",
       " 'Kedi',\n",
       " 'Gemi',\n",
       " 'Köpek',\n",
       " 'At',\n",
       " 'Uçak',\n",
       " 'At',\n",
       " 'Uçak',\n",
       " 'Kurbağa',\n",
       " 'Uçak',\n",
       " 'Uçak',\n",
       " 'Uçak',\n",
       " 'Kurbağa',\n",
       " 'Uçak',\n",
       " 'Köpek',\n",
       " 'Araba',\n",
       " 'Kedi',\n",
       " 'Kurbağa',\n",
       " 'Kurbağa',\n",
       " 'Kurbağa',\n",
       " 'Kurbağa',\n",
       " 'Kedi',\n",
       " 'Kamyon',\n",
       " 'Araba',\n",
       " 'Kedi',\n",
       " 'Kurbağa',\n",
       " 'At',\n",
       " 'Köpek',\n",
       " 'Kamyon',\n",
       " 'Araba',\n",
       " 'Kurbağa',\n",
       " 'Kurbağa',\n",
       " 'Kamyon',\n",
       " 'Kedi',\n",
       " 'At',\n",
       " 'Gemi',\n",
       " 'Kedi',\n",
       " 'Kamyon',\n",
       " 'Kuş',\n",
       " 'Kedi',\n",
       " 'Geyik',\n",
       " 'Kedi',\n",
       " 'Kuş',\n",
       " 'Uçak',\n",
       " 'At',\n",
       " 'Kurbağa',\n",
       " 'Kedi',\n",
       " 'Geyik',\n",
       " 'Kamyon',\n",
       " 'Kamyon',\n",
       " 'Kedi',\n",
       " 'Kamyon',\n",
       " 'Kurbağa',\n",
       " 'Kurbağa',\n",
       " 'At',\n",
       " 'Araba',\n",
       " 'Kedi',\n",
       " 'Kedi',\n",
       " 'Kurbağa',\n",
       " 'Gemi',\n",
       " 'Kedi',\n",
       " 'At',\n",
       " 'Kedi',\n",
       " 'Geyik',\n",
       " 'Uçak',\n",
       " 'Uçak',\n",
       " 'At',\n",
       " 'Uçak',\n",
       " 'Kamyon',\n",
       " 'Kedi',\n",
       " 'Kuş',\n",
       " 'Gemi',\n",
       " 'Kamyon',\n",
       " 'Kurbağa',\n",
       " 'Araba',\n",
       " 'Kuş',\n",
       " 'Kurbağa',\n",
       " 'Araba',\n",
       " 'Geyik',\n",
       " 'At',\n",
       " 'Kedi',\n",
       " 'Köpek',\n",
       " 'Kedi',\n",
       " 'Gemi',\n",
       " 'Kedi',\n",
       " 'Uçak',\n",
       " 'Kuş',\n",
       " 'Araba',\n",
       " 'Kurbağa',\n",
       " 'Kedi',\n",
       " 'Kedi',\n",
       " 'Kedi',\n",
       " 'Kamyon',\n",
       " 'Kurbağa',\n",
       " 'Kamyon',\n",
       " 'Gemi',\n",
       " 'Gemi',\n",
       " 'Kedi',\n",
       " 'Kedi',\n",
       " 'Kurbağa',\n",
       " 'Kurbağa',\n",
       " 'At',\n",
       " 'Araba',\n",
       " 'At',\n",
       " 'Araba',\n",
       " 'Araba',\n",
       " 'Kuş',\n",
       " 'At',\n",
       " 'Kamyon',\n",
       " 'Kamyon',\n",
       " 'Geyik',\n",
       " 'At',\n",
       " 'Kedi',\n",
       " 'Gemi',\n",
       " 'At',\n",
       " 'Kurbağa',\n",
       " 'Kedi',\n",
       " 'Geyik',\n",
       " 'Kurbağa',\n",
       " 'Gemi',\n",
       " 'Kedi',\n",
       " 'Uçak',\n",
       " 'Köpek',\n",
       " 'Köpek',\n",
       " 'Kedi',\n",
       " 'Köpek',\n",
       " 'At',\n",
       " 'Kamyon',\n",
       " 'Araba',\n",
       " 'Kedi',\n",
       " 'Kedi',\n",
       " 'Geyik',\n",
       " 'Köpek',\n",
       " 'Kedi',\n",
       " 'Kamyon',\n",
       " 'Kedi',\n",
       " 'Geyik',\n",
       " 'Kamyon',\n",
       " 'Uçak',\n",
       " 'Araba',\n",
       " 'Köpek',\n",
       " 'Geyik',\n",
       " 'Araba',\n",
       " 'Kamyon',\n",
       " 'Geyik',\n",
       " 'At',\n",
       " 'Kurbağa',\n",
       " 'Kedi',\n",
       " 'Gemi',\n",
       " 'Kamyon',\n",
       " 'Uçak',\n",
       " 'Araba',\n",
       " 'At',\n",
       " 'Kurbağa',\n",
       " 'Kedi',\n",
       " 'Geyik',\n",
       " 'Kedi',\n",
       " 'Kedi',\n",
       " 'Araba',\n",
       " 'Geyik',\n",
       " 'Kamyon',\n",
       " 'Kedi',\n",
       " 'Kedi',\n",
       " 'Uçak',\n",
       " 'Kurbağa',\n",
       " 'Kedi',\n",
       " 'Araba',\n",
       " 'Kedi',\n",
       " 'Kuş',\n",
       " 'Kurbağa',\n",
       " 'Kedi',\n",
       " 'Kedi',\n",
       " 'Kedi',\n",
       " 'Kuş',\n",
       " 'Kedi',\n",
       " 'Uçak',\n",
       " 'At',\n",
       " 'Gemi',\n",
       " 'Kedi',\n",
       " 'Uçak',\n",
       " 'Kedi',\n",
       " 'At',\n",
       " 'Köpek',\n",
       " 'At',\n",
       " 'Uçak',\n",
       " 'Geyik',\n",
       " 'Uçak',\n",
       " 'At',\n",
       " 'Geyik',\n",
       " 'Uçak',\n",
       " 'Kedi',\n",
       " 'Gemi',\n",
       " 'Gemi',\n",
       " 'Kedi',\n",
       " 'Uçak',\n",
       " 'Gemi',\n",
       " 'At',\n",
       " 'Geyik',\n",
       " 'Kedi',\n",
       " 'Kedi',\n",
       " 'Araba',\n",
       " 'Geyik',\n",
       " 'Kamyon',\n",
       " 'At',\n",
       " 'Uçak',\n",
       " 'Gemi',\n",
       " 'Araba',\n",
       " 'Gemi',\n",
       " 'Uçak',\n",
       " 'Araba',\n",
       " 'Geyik',\n",
       " 'Kurbağa',\n",
       " 'Kedi',\n",
       " 'Kedi',\n",
       " 'Uçak',\n",
       " 'At',\n",
       " 'Araba',\n",
       " 'Araba',\n",
       " 'Uçak',\n",
       " 'Araba',\n",
       " 'Uçak',\n",
       " 'Araba',\n",
       " 'Kedi',\n",
       " 'Köpek',\n",
       " 'At',\n",
       " 'Uçak',\n",
       " 'At',\n",
       " 'Araba',\n",
       " 'At',\n",
       " 'Kurbağa',\n",
       " 'Kurbağa',\n",
       " 'Kuş',\n",
       " 'Kedi',\n",
       " 'Kamyon',\n",
       " 'Uçak',\n",
       " 'Kedi',\n",
       " 'Araba',\n",
       " 'Kuş',\n",
       " 'Uçak',\n",
       " 'Kurbağa',\n",
       " 'Gemi',\n",
       " 'Kuş',\n",
       " 'Araba',\n",
       " 'At',\n",
       " 'Köpek',\n",
       " 'Kurbağa',\n",
       " 'Uçak',\n",
       " 'Araba',\n",
       " 'Kuş',\n",
       " 'Köpek',\n",
       " 'Kamyon',\n",
       " 'Kedi',\n",
       " 'Geyik',\n",
       " 'Araba',\n",
       " 'Uçak',\n",
       " 'Kurbağa',\n",
       " 'Kedi',\n",
       " 'Uçak',\n",
       " 'Kuş',\n",
       " 'Kedi',\n",
       " 'Kurbağa',\n",
       " 'Uçak',\n",
       " 'Kurbağa',\n",
       " 'Kamyon',\n",
       " 'Araba',\n",
       " 'At',\n",
       " 'Kurbağa',\n",
       " 'At',\n",
       " 'Uçak',\n",
       " 'Kedi',\n",
       " 'Gemi',\n",
       " 'Kedi',\n",
       " 'Gemi',\n",
       " 'Kedi',\n",
       " 'Uçak',\n",
       " 'Kedi',\n",
       " 'Kedi',\n",
       " 'At',\n",
       " 'Köpek',\n",
       " 'Araba',\n",
       " 'At',\n",
       " 'At',\n",
       " 'Kedi',\n",
       " 'At',\n",
       " 'Araba',\n",
       " 'Kuş',\n",
       " 'At',\n",
       " 'Geyik',\n",
       " 'Kedi',\n",
       " 'Gemi',\n",
       " 'Geyik',\n",
       " 'Uçak',\n",
       " 'Geyik',\n",
       " 'Kedi',\n",
       " 'Kedi',\n",
       " 'At',\n",
       " 'Kuş',\n",
       " 'Uçak',\n",
       " 'Gemi',\n",
       " 'Kamyon',\n",
       " 'Kedi',\n",
       " 'Gemi',\n",
       " 'Kedi',\n",
       " 'Köpek',\n",
       " 'Kuş',\n",
       " 'Uçak',\n",
       " 'Gemi',\n",
       " 'At',\n",
       " 'Kurbağa',\n",
       " 'Kedi',\n",
       " 'Kurbağa',\n",
       " 'Köpek',\n",
       " 'Kedi',\n",
       " 'Uçak',\n",
       " 'Kurbağa',\n",
       " 'Kuş',\n",
       " 'Köpek',\n",
       " 'Geyik',\n",
       " 'Geyik',\n",
       " 'Araba',\n",
       " 'Kedi',\n",
       " 'Kamyon',\n",
       " 'Kuş',\n",
       " 'At',\n",
       " 'Uçak',\n",
       " 'At',\n",
       " 'Kuş',\n",
       " 'Araba',\n",
       " 'Kedi',\n",
       " 'Geyik',\n",
       " 'Uçak',\n",
       " 'Kurbağa',\n",
       " 'Geyik',\n",
       " 'Köpek',\n",
       " 'Kamyon',\n",
       " 'Gemi',\n",
       " 'Araba',\n",
       " 'Uçak',\n",
       " 'At',\n",
       " 'At',\n",
       " 'Uçak',\n",
       " 'At',\n",
       " 'Gemi',\n",
       " 'Geyik',\n",
       " 'Kurbağa',\n",
       " 'Kedi',\n",
       " 'Kedi',\n",
       " 'Uçak',\n",
       " 'Araba',\n",
       " 'Kedi',\n",
       " 'At',\n",
       " 'Uçak',\n",
       " 'Kamyon',\n",
       " 'Kedi',\n",
       " 'Araba',\n",
       " 'Kedi',\n",
       " 'Kuş',\n",
       " 'Kedi',\n",
       " 'Gemi',\n",
       " 'Geyik',\n",
       " 'Kuş',\n",
       " 'Uçak',\n",
       " 'At',\n",
       " 'Gemi',\n",
       " 'Geyik',\n",
       " 'Uçak',\n",
       " 'Geyik',\n",
       " 'Geyik',\n",
       " 'Uçak',\n",
       " 'Kamyon',\n",
       " 'Araba',\n",
       " 'Araba',\n",
       " 'Kurbağa',\n",
       " 'Kedi',\n",
       " 'Kurbağa',\n",
       " 'At',\n",
       " 'Köpek',\n",
       " 'Araba',\n",
       " 'Araba',\n",
       " 'Kedi',\n",
       " 'At',\n",
       " 'Kedi',\n",
       " 'Köpek',\n",
       " 'Kuş',\n",
       " 'Kurbağa',\n",
       " 'Kurbağa',\n",
       " 'Köpek',\n",
       " 'Uçak',\n",
       " 'At',\n",
       " 'Araba',\n",
       " 'Kurbağa',\n",
       " 'Gemi',\n",
       " 'Gemi',\n",
       " 'Geyik',\n",
       " 'Kedi',\n",
       " 'Kedi',\n",
       " 'Köpek',\n",
       " 'Uçak',\n",
       " 'Araba',\n",
       " 'Geyik',\n",
       " 'Gemi',\n",
       " 'Gemi',\n",
       " 'Uçak',\n",
       " 'Kurbağa',\n",
       " 'Kamyon',\n",
       " 'Kamyon',\n",
       " 'Kamyon',\n",
       " 'At',\n",
       " 'Kedi',\n",
       " 'Kedi',\n",
       " 'Kedi',\n",
       " 'Uçak',\n",
       " 'Uçak',\n",
       " 'Geyik',\n",
       " 'Kedi',\n",
       " 'Kedi',\n",
       " 'Kedi',\n",
       " 'At',\n",
       " 'Kuş',\n",
       " 'Kuş',\n",
       " 'Köpek',\n",
       " 'Araba',\n",
       " 'Gemi',\n",
       " 'Araba',\n",
       " 'Araba',\n",
       " 'At',\n",
       " 'Geyik',\n",
       " 'Uçak',\n",
       " 'Köpek',\n",
       " 'Uçak',\n",
       " 'Araba',\n",
       " 'Geyik',\n",
       " 'Gemi',\n",
       " 'Kedi',\n",
       " 'Araba',\n",
       " 'Kedi',\n",
       " 'Araba',\n",
       " 'Geyik',\n",
       " 'At',\n",
       " 'Uçak',\n",
       " 'Kurbağa',\n",
       " 'At',\n",
       " 'Gemi',\n",
       " 'Kamyon',\n",
       " 'Araba',\n",
       " 'Araba',\n",
       " 'Kurbağa',\n",
       " 'Kurbağa',\n",
       " 'Kedi',\n",
       " 'Kedi',\n",
       " 'Kamyon',\n",
       " 'Araba',\n",
       " 'Kamyon',\n",
       " 'Kamyon',\n",
       " 'Geyik',\n",
       " 'Kurbağa',\n",
       " 'Araba',\n",
       " 'Kedi',\n",
       " 'Uçak',\n",
       " 'Kurbağa',\n",
       " 'Uçak',\n",
       " 'Araba',\n",
       " 'Kamyon',\n",
       " 'Kurbağa',\n",
       " 'Araba',\n",
       " 'Köpek',\n",
       " 'Geyik',\n",
       " 'Geyik',\n",
       " 'Gemi',\n",
       " 'Kedi',\n",
       " 'Araba',\n",
       " 'At',\n",
       " 'Uçak',\n",
       " 'Araba',\n",
       " 'Kedi',\n",
       " 'Gemi',\n",
       " 'Kedi',\n",
       " 'Kurbağa',\n",
       " 'Kuş',\n",
       " 'Gemi',\n",
       " 'Araba',\n",
       " 'Kedi',\n",
       " 'Gemi',\n",
       " ...]"
      ]
     },
     "execution_count": 69,
     "metadata": {},
     "output_type": "execute_result"
    }
   ],
   "source": [
    "predicted_classes"
   ]
  },
  {
   "cell_type": "code",
   "execution_count": 78,
   "id": "4faec44e",
   "metadata": {},
   "outputs": [
    {
     "data": {
      "text/plain": [
       "'Geyik'"
      ]
     },
     "execution_count": 78,
     "metadata": {},
     "output_type": "execute_result"
    }
   ],
   "source": [
    "predicted_classes[1608]"
   ]
  },
  {
   "cell_type": "code",
   "execution_count": 79,
   "id": "5316f680",
   "metadata": {},
   "outputs": [
    {
     "data": {
      "text/plain": [
       "<matplotlib.image.AxesImage at 0x7d54604175e0>"
      ]
     },
     "execution_count": 79,
     "metadata": {},
     "output_type": "execute_result"
    },
    {
     "data": {
      "image/png": "[encoded data removed]",
      "text/plain": [
       "<Figure size 640x480 with 1 Axes>"
      ]
     },
     "metadata": {},
     "output_type": "display_data"
    }
   ],
   "source": [
    "plt.imshow(test_images[1608])"
   ]
  },
  {
   "cell_type": "code",
   "execution_count": 80,
   "id": "0e863651",
   "metadata": {},
   "outputs": [
    {
     "data": {
      "text/plain": [
       "'Geyik'"
      ]
     },
     "execution_count": 80,
     "metadata": {},
     "output_type": "execute_result"
    }
   ],
   "source": [
    "y_labels[test_labels[1608][0]]"
   ]
  }
 ],
 "metadata": {
  "kernelspec": {
   "display_name": "Python 3",
   "language": "python",
   "name": "python3"
  },
  "language_info": {
   "codemirror_mode": {
    "name": "ipython",
    "version": 3
   },
   "file_extension": ".py",
   "mimetype": "text/x-python",
   "name": "python",
   "nbconvert_exporter": "python",
   "pygments_lexer": "ipython3",
   "version": "3.10.12"
  }
 },
 "nbformat": 4,
 "nbformat_minor": 5
}
